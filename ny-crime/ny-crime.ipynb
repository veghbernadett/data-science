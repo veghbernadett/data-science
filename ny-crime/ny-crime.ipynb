{
 "cells": [
  {
   "cell_type": "markdown",
   "metadata": {},
   "source": [
    "# Analysis of crime trends in New York City - \"Is the next crime predictable?\"\n",
    "\n",
    "## Problem statement\n",
    "\n",
    "We are going to study the patterns of crime incidents in the city of New York, and build a set of models to predict if a crime is likely to happen given a specific time and location.\n",
    "\n",
    "## Audience\n",
    "\n",
    "* Law enforcement agencies\n",
    "* Media outlets\n",
    "* General population\n",
    "\n",
    "## Data\n",
    "\n",
    "NYC OpenData provides a dataset with incidents of felony, misdemeanor and violation crimes, provided by New York Police Department in 2016:\n",
    "\n",
    "* https://data.cityofnewyork.us/Public-Safety/NYPD-Complaint-Data-Current-YTD/5uac-w243 (03/26/2017)\n",
    "\n",
    "This dataset holds complaint incidents with date, time, police department, description, law category, borough, and geographical information (latitude, longitude). It does not include street name, number, zip code, borough and census tract. \n",
    "\n",
    "In order to augment the data from the (latitude, longitude) key, the following datasets will be used: \n",
    "\n",
    "* OpenAddress.io http://results.openaddresses.io/ (03/26/2017) which includes street-level data\n",
    "* https://data.cityofnewyork.us/City-Government/2000-Census-Tracts/ysjj-vb9j (03/26/2017) which includes boroughs and census tracts\n",
    "\n",
    "An initial processing of the data can be found [here](data/complaints-data.ipynb). A visualization of the results can be found [here](maps.ipynb).\n",
    "\n",
    "## Approach\n",
    "\n",
    "* Determine which variables provide the highest correlation with crime incidents\n",
    "    * Visualize incidents in a map for different choices of variables and filters\n",
    "    * Heatmaps,  kernel density estimate plots to correlate variables\n",
    "    * Feature selection\n",
    "* Time series analysis on variables\n",
    "    * Identify seasonal effects\n",
    "    * Determine anomalies\n",
    "* Prediction models\n",
    "    * Regression (to determine the evolution of patterns over time)\n",
    "    * Clustering (to determine common patterns across census tracts, boroughs, etc.)\n",
    "    * Classification (to predict if a given crime is likely to happen in a given time and location)\n",
    "\n",
    "## Deliverables\n",
    "\n",
    "A notebook including:\n",
    "* Analysis of crime patterns\n",
    "* Models for predicting crime"
   ]
  }
 ],
 "metadata": {
  "kernelspec": {
   "display_name": "Python 3",
   "language": "python",
   "name": "python3"
  },
  "language_info": {
   "codemirror_mode": {
    "name": "ipython",
    "version": 3
   },
   "file_extension": ".py",
   "mimetype": "text/x-python",
   "name": "python",
   "nbconvert_exporter": "python",
   "pygments_lexer": "ipython3",
   "version": "3.5.2"
  }
 },
 "nbformat": 4,
 "nbformat_minor": 2
}
