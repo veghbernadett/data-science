{
 "cells": [
  {
   "cell_type": "markdown",
   "metadata": {
    "deletable": true,
    "editable": true
   },
   "source": [
    "# Complaints data preprocessing"
   ]
  },
  {
   "cell_type": "markdown",
   "metadata": {
    "deletable": true,
    "editable": true
   },
   "source": [
    "### Setup"
   ]
  },
  {
   "cell_type": "code",
   "execution_count": 44,
   "metadata": {
    "collapsed": false,
    "deletable": true,
    "editable": true
   },
   "outputs": [],
   "source": [
    "import random\n",
    "import json\n",
    "from collections import OrderedDict\n",
    "\n",
    "import pandas as pd\n",
    "import numpy as np\n",
    "import geopandas as gpd\n",
    "\n",
    "import matplotlib  \n",
    "import matplotlib.pyplot as plt  \n",
    "from matplotlib import rcParams"
   ]
  },
  {
   "cell_type": "code",
   "execution_count": 45,
   "metadata": {
    "collapsed": false,
    "deletable": true,
    "editable": true
   },
   "outputs": [],
   "source": [
    "from tqdm import tqdm, tqdm_pandas, tqdm_notebook\n",
    "tqdm.pandas(tqdm_notebook)"
   ]
  },
  {
   "cell_type": "code",
   "execution_count": 46,
   "metadata": {
    "collapsed": true,
    "deletable": true,
    "editable": true
   },
   "outputs": [],
   "source": [
    "%config InlineBackend.figure_format = 'retina'\n",
    "%matplotlib inline"
   ]
  },
  {
   "cell_type": "code",
   "execution_count": 47,
   "metadata": {
    "collapsed": false,
    "deletable": true,
    "editable": true
   },
   "outputs": [
    {
     "data": {
      "application/javascript": [
       "IPython.OutputArea.auto_scroll_threshold = 9999;"
      ],
      "text/plain": [
       "<IPython.core.display.Javascript object>"
      ]
     },
     "metadata": {},
     "output_type": "display_data"
    }
   ],
   "source": [
    "%%javascript\n",
    "IPython.OutputArea.auto_scroll_threshold = 9999;"
   ]
  },
  {
   "cell_type": "code",
   "execution_count": 48,
   "metadata": {
    "collapsed": true,
    "deletable": true,
    "editable": true
   },
   "outputs": [],
   "source": [
    "pd.set_option(\"display.max_columns\",100)"
   ]
  },
  {
   "cell_type": "markdown",
   "metadata": {
    "deletable": true,
    "editable": true
   },
   "source": [
    "### Helpers"
   ]
  },
  {
   "cell_type": "code",
   "execution_count": 49,
   "metadata": {
    "collapsed": true,
    "deletable": true,
    "editable": true
   },
   "outputs": [],
   "source": [
    "# helper to read a sample of a CSV file\n",
    "# helps to avoid processing large files during development\n",
    "def read_csv_sample(file, sample_size):\n",
    "    records_in_file = sum(1 for line in open(file))    \n",
    "    skip = sorted(random.sample(range(records_in_file), records_in_file-sample_size))[1:]\n",
    "    return pd.read_csv(file, skiprows=skip)"
   ]
  },
  {
   "cell_type": "markdown",
   "metadata": {
    "deletable": true,
    "editable": true
   },
   "source": [
    "### Download, read and format complaints data"
   ]
  },
  {
   "cell_type": "code",
   "execution_count": 50,
   "metadata": {
    "collapsed": false
   },
   "outputs": [],
   "source": [
    "%%bash\n",
    "\n",
    "# NYPD Complaint Data Current YTD -- 2016\n",
    "# https://data.cityofnewyork.us/Public-Safety/NYPD-Complaint-Data-Current-YTD/5uac-w243\n",
    "if [ ! -f \"raw/NYPD_Complaint_Data_Current_YTD.csv\" ]; then\n",
    "  wget -q \"https://data.cityofnewyork.us/api/views/5uac-w243/rows.csv?accessType=DOWNLOAD\" -O \"raw/NYPD_Complaint_Data_Current_YTD.csv\"\n",
    "fi"
   ]
  },
  {
   "cell_type": "code",
   "execution_count": 51,
   "metadata": {
    "collapsed": false,
    "deletable": true,
    "editable": true
   },
   "outputs": [
    {
     "data": {
      "text/html": [
       "<div>\n",
       "<table border=\"1\" class=\"dataframe\">\n",
       "  <thead>\n",
       "    <tr style=\"text-align: right;\">\n",
       "      <th></th>\n",
       "      <th>CMPLNT_NUM</th>\n",
       "      <th>CMPLNT_FR_DT</th>\n",
       "      <th>CMPLNT_FR_TM</th>\n",
       "      <th>CMPLNT_TO_DT</th>\n",
       "      <th>CMPLNT_TO_TM</th>\n",
       "      <th>RPT_DT</th>\n",
       "      <th>KY_CD</th>\n",
       "      <th>OFNS_DESC</th>\n",
       "      <th>PD_CD</th>\n",
       "      <th>PD_DESC</th>\n",
       "      <th>CRM_ATPT_CPTD_CD</th>\n",
       "      <th>LAW_CAT_CD</th>\n",
       "      <th>JURIS_DESC</th>\n",
       "      <th>BORO_NM</th>\n",
       "      <th>ADDR_PCT_CD</th>\n",
       "      <th>LOC_OF_OCCUR_DESC</th>\n",
       "      <th>PREM_TYP_DESC</th>\n",
       "      <th>PARKS_NM</th>\n",
       "      <th>HADEVELOPT</th>\n",
       "      <th>X_COORD_CD</th>\n",
       "      <th>Y_COORD_CD</th>\n",
       "      <th>Latitude</th>\n",
       "      <th>Longitude</th>\n",
       "      <th>Lat_Lon</th>\n",
       "    </tr>\n",
       "  </thead>\n",
       "  <tbody>\n",
       "    <tr>\n",
       "      <th>0</th>\n",
       "      <td>645327550</td>\n",
       "      <td>12/27/2016</td>\n",
       "      <td>22:38:00</td>\n",
       "      <td>12/28/2016</td>\n",
       "      <td>07:05:00</td>\n",
       "      <td>12/28/2016</td>\n",
       "      <td>110</td>\n",
       "      <td>GRAND LARCENY OF MOTOR VEHICLE</td>\n",
       "      <td>441.0</td>\n",
       "      <td>LARCENY,GRAND OF AUTO</td>\n",
       "      <td>COMPLETED</td>\n",
       "      <td>FELONY</td>\n",
       "      <td>N.Y. POLICE DEPT</td>\n",
       "      <td>MANHATTAN</td>\n",
       "      <td>19</td>\n",
       "      <td>FRONT OF</td>\n",
       "      <td>STREET</td>\n",
       "      <td>NaN</td>\n",
       "      <td>NaN</td>\n",
       "      <td>995467.0</td>\n",
       "      <td>218032.0</td>\n",
       "      <td>40.765125</td>\n",
       "      <td>-73.959508</td>\n",
       "      <td>(40.765125007, -73.959508312)</td>\n",
       "    </tr>\n",
       "  </tbody>\n",
       "</table>\n",
       "</div>"
      ],
      "text/plain": [
       "   CMPLNT_NUM CMPLNT_FR_DT CMPLNT_FR_TM CMPLNT_TO_DT CMPLNT_TO_TM      RPT_DT  \\\n",
       "0   645327550   12/27/2016     22:38:00   12/28/2016     07:05:00  12/28/2016   \n",
       "\n",
       "   KY_CD                       OFNS_DESC  PD_CD                PD_DESC  \\\n",
       "0    110  GRAND LARCENY OF MOTOR VEHICLE  441.0  LARCENY,GRAND OF AUTO   \n",
       "\n",
       "  CRM_ATPT_CPTD_CD LAW_CAT_CD        JURIS_DESC    BORO_NM  ADDR_PCT_CD  \\\n",
       "0        COMPLETED     FELONY  N.Y. POLICE DEPT  MANHATTAN           19   \n",
       "\n",
       "  LOC_OF_OCCUR_DESC PREM_TYP_DESC  PARKS_NM HADEVELOPT  X_COORD_CD  \\\n",
       "0          FRONT OF        STREET       NaN        NaN    995467.0   \n",
       "\n",
       "   Y_COORD_CD   Latitude  Longitude                        Lat_Lon  \n",
       "0    218032.0  40.765125 -73.959508  (40.765125007, -73.959508312)  "
      ]
     },
     "execution_count": 51,
     "metadata": {},
     "output_type": "execute_result"
    }
   ],
   "source": [
    "#df = read_csv_sample(\"raw/NYPD_Complaint_Data_Current_YTD.csv\", 100)\n",
    "df = pd.read_csv(\"raw/NYPD_Complaint_Data_Current_YTD.csv\")\n",
    "df.head(1)"
   ]
  },
  {
   "cell_type": "code",
   "execution_count": 52,
   "metadata": {
    "collapsed": false,
    "deletable": true,
    "editable": true
   },
   "outputs": [
    {
     "data": {
      "text/html": [
       "<div>\n",
       "<table border=\"1\" class=\"dataframe\">\n",
       "  <thead>\n",
       "    <tr style=\"text-align: right;\">\n",
       "      <th></th>\n",
       "      <th>from_date</th>\n",
       "      <th>from_time</th>\n",
       "      <th>to_date</th>\n",
       "      <th>to_time</th>\n",
       "      <th>offense</th>\n",
       "      <th>offense_description</th>\n",
       "      <th>occurence</th>\n",
       "      <th>premise</th>\n",
       "      <th>borough</th>\n",
       "      <th>latitude</th>\n",
       "      <th>longitude</th>\n",
       "    </tr>\n",
       "  </thead>\n",
       "  <tbody>\n",
       "    <tr>\n",
       "      <th>0</th>\n",
       "      <td>12/27/2016</td>\n",
       "      <td>22:38:00</td>\n",
       "      <td>12/28/2016</td>\n",
       "      <td>07:05:00</td>\n",
       "      <td>GRAND LARCENY OF MOTOR VEHICLE</td>\n",
       "      <td>LARCENY,GRAND OF AUTO</td>\n",
       "      <td>FRONT OF</td>\n",
       "      <td>STREET</td>\n",
       "      <td>MANHATTAN</td>\n",
       "      <td>40.765125</td>\n",
       "      <td>-73.959508</td>\n",
       "    </tr>\n",
       "  </tbody>\n",
       "</table>\n",
       "</div>"
      ],
      "text/plain": [
       "    from_date from_time     to_date   to_time                         offense  \\\n",
       "0  12/27/2016  22:38:00  12/28/2016  07:05:00  GRAND LARCENY OF MOTOR VEHICLE   \n",
       "\n",
       "     offense_description occurence premise    borough   latitude  longitude  \n",
       "0  LARCENY,GRAND OF AUTO  FRONT OF  STREET  MANHATTAN  40.765125 -73.959508  "
      ]
     },
     "execution_count": 52,
     "metadata": {},
     "output_type": "execute_result"
    }
   ],
   "source": [
    "columns = OrderedDict()\n",
    "columns['CMPLNT_FR_DT'] = \"from_date\" \n",
    "columns['CMPLNT_FR_TM'] = \"from_time\" \n",
    "columns['CMPLNT_TO_DT'] = \"to_date\" \n",
    "columns['CMPLNT_TO_TM'] = \"to_time\" \n",
    "columns['OFNS_DESC'] = \"offense\" \n",
    "columns['PD_DESC'] = \"offense_description\" \n",
    "columns['LOC_OF_OCCUR_DESC'] = \"occurence\" \n",
    "columns['PREM_TYP_DESC'] = \"premise\" \n",
    "columns['BORO_NM'] = \"borough\" \n",
    "columns['Latitude'] = \"latitude\" \n",
    "columns['Longitude'] = \"longitude\"\n",
    "\n",
    "df = df[list(columns.keys())]\n",
    "df.columns = columns.values()\n",
    "\n",
    "df.dropna(subset=['latitude','longitude'], inplace=True)\n",
    "\n",
    "df.head(1)"
   ]
  },
  {
   "cell_type": "markdown",
   "metadata": {
    "deletable": true,
    "editable": true
   },
   "source": [
    "### Read and format [street/number to latitude/longitude] dataset"
   ]
  },
  {
   "cell_type": "code",
   "execution_count": 53,
   "metadata": {
    "collapsed": true
   },
   "outputs": [],
   "source": [
    "%%bash\n",
    "\n",
    "# http://results.openaddresses.io/\n",
    "if [ ! -d \"raw/openaddr-collected-us_northeast\" ]; then\n",
    "  wget -q \"https://s3.amazonaws.com/data.openaddresses.io/openaddr-collected-us_northeast.zip\" -O \"raw/openaddr-collected-us_northeast.zip\"\n",
    "  ( cd raw && unzip -q openaddr-collected-us_northeast.zip -d openaddr-collected-us_northeast )\n",
    "fi"
   ]
  },
  {
   "cell_type": "code",
   "execution_count": 54,
   "metadata": {
    "collapsed": false,
    "deletable": true,
    "editable": true
   },
   "outputs": [
    {
     "data": {
      "text/html": [
       "<div>\n",
       "<table border=\"1\" class=\"dataframe\">\n",
       "  <thead>\n",
       "    <tr style=\"text-align: right;\">\n",
       "      <th></th>\n",
       "      <th>longitude</th>\n",
       "      <th>latitude</th>\n",
       "      <th>number</th>\n",
       "      <th>street</th>\n",
       "      <th>postcode</th>\n",
       "    </tr>\n",
       "  </thead>\n",
       "  <tbody>\n",
       "    <tr>\n",
       "      <th>0</th>\n",
       "      <td>-73.963457</td>\n",
       "      <td>40.680729</td>\n",
       "      <td>932</td>\n",
       "      <td>ATLANTIC AVENUE</td>\n",
       "      <td>11238</td>\n",
       "    </tr>\n",
       "  </tbody>\n",
       "</table>\n",
       "</div>"
      ],
      "text/plain": [
       "   longitude   latitude number           street postcode\n",
       "0 -73.963457  40.680729    932  ATLANTIC AVENUE    11238"
      ]
     },
     "execution_count": 54,
     "metadata": {},
     "output_type": "execute_result"
    }
   ],
   "source": [
    "#dfs = read_csv_sample('raw/openaddr-collected-us_northeast/us/ny/city_of_new_york.csv', 100)\n",
    "dfs = pd.read_csv('raw/openaddr-collected-us_northeast/us/ny/city_of_new_york.csv')\n",
    "\n",
    "def fix_postcode(p):\n",
    "    try:\n",
    "        return str(int(p))\n",
    "    except:\n",
    "        return \"\"\n",
    "\n",
    "dfs.LAT = dfs.LAT.astype(float)\n",
    "dfs.LON = dfs.LON.astype(float)\n",
    "dfs.POSTCODE = dfs.POSTCODE.map(fix_postcode)\n",
    "\n",
    "columns = OrderedDict()\n",
    "columns['LON'] = \"longitude\" \n",
    "columns['LAT'] = \"latitude\" \n",
    "columns['NUMBER'] = \"number\" \n",
    "columns['STREET'] = \"street\"\n",
    "columns['POSTCODE'] = \"postcode\"\n",
    "\n",
    "dfs = dfs[list(columns.keys())]\n",
    "dfs.columns = columns.values()\n",
    "dfs.head(1)"
   ]
  },
  {
   "cell_type": "markdown",
   "metadata": {},
   "source": [
    "### Download census tract geospacial data"
   ]
  },
  {
   "cell_type": "code",
   "execution_count": 55,
   "metadata": {
    "collapsed": true
   },
   "outputs": [],
   "source": [
    "%%bash\n",
    "\n",
    "# https://data.cityofnewyork.us/City-Government/2000-Census-Tracts/ysjj-vb9j\n",
    "if [ ! -f \"raw/2000 Census Tracts.geojson\" ]; then\n",
    "  wget -q \"https://data.cityofnewyork.us/api/geospatial/ysjj-vb9j?method=export&format=GeoJSON\" -O \"raw/2000 Census Tracts.geojson\"\n",
    "fi"
   ]
  },
  {
   "cell_type": "markdown",
   "metadata": {
    "deletable": true,
    "editable": true
   },
   "source": [
    "### Extend  [street/number to latitude/longitude] dataset to include borough and census tract"
   ]
  },
  {
   "cell_type": "code",
   "execution_count": 60,
   "metadata": {
    "collapsed": false,
    "deletable": true,
    "editable": true
   },
   "outputs": [
    {
     "name": "stderr",
     "output_type": "stream",
     "text": [
      "101it [00:00, 637.79it/s]            \n"
     ]
    },
    {
     "data": {
      "text/html": [
       "<div>\n",
       "<table border=\"1\" class=\"dataframe\">\n",
       "  <thead>\n",
       "    <tr style=\"text-align: right;\">\n",
       "      <th></th>\n",
       "      <th>longitude</th>\n",
       "      <th>latitude</th>\n",
       "      <th>number</th>\n",
       "      <th>street</th>\n",
       "      <th>postcode</th>\n",
       "      <th>borough</th>\n",
       "      <th>census_tract</th>\n",
       "      <th>census_tract_code</th>\n",
       "      <th>puma</th>\n",
       "    </tr>\n",
       "  </thead>\n",
       "  <tbody>\n",
       "    <tr>\n",
       "      <th>0</th>\n",
       "      <td>-73.963457</td>\n",
       "      <td>40.680729</td>\n",
       "      <td>932</td>\n",
       "      <td>ATLANTIC AVENUE</td>\n",
       "      <td>11238</td>\n",
       "      <td>Brooklyn</td>\n",
       "      <td>Prospect Heights</td>\n",
       "      <td>BK64</td>\n",
       "      <td>4006</td>\n",
       "    </tr>\n",
       "  </tbody>\n",
       "</table>\n",
       "</div>"
      ],
      "text/plain": [
       "   longitude   latitude number           street postcode   borough  \\\n",
       "0 -73.963457  40.680729    932  ATLANTIC AVENUE    11238  Brooklyn   \n",
       "\n",
       "       census_tract census_tract_code  puma  \n",
       "0  Prospect Heights              BK64  4006  "
      ]
     },
     "execution_count": 60,
     "metadata": {},
     "output_type": "execute_result"
    }
   ],
   "source": [
    "from shapely.geometry import shape, Point, Polygon\n",
    "from rtree import index \n",
    "\n",
    "# read census tracts geospacial json file\n",
    "# \"features\": [\n",
    "#   \"properties\":{\n",
    "#     \"ntacode\":\"MN19\",\n",
    "#     \"ntaname\":\"Turtle Bay-East Midtown\",\n",
    "#     \"boro_name\":\"Manhattan\",\n",
    "#     \"puma\":\"3808\"},\n",
    "#   \"geometry\": { <polygon data> }\n",
    "# ], ...\n",
    "\n",
    "with open('raw/2000 Census Tracts.geojson') as f:\n",
    "    js = json.load(f)\n",
    "\n",
    "# dictionary to map an index key to a dictionary holding census tract and polygon data\n",
    "geo = {}\n",
    "\n",
    "# rshape index to speed up queries on boundaries\n",
    "# will have the same index as the `geo` dictionary\n",
    "idx = index.Index()\n",
    "\n",
    "i=0\n",
    "\n",
    "# fill geo and idx\n",
    "for feature in js['features']:\n",
    "    polygon = shape(feature['geometry'])\n",
    "    minx, miny, maxx, maxy = polygon.bounds\n",
    "    \n",
    "    p = feature['properties']\n",
    "    \n",
    "    # adds polygon plus census tract data to the dictionary\n",
    "    geo[i] = {\n",
    "        'polygon': polygon,\n",
    "        'borough': p['boro_name'], \n",
    "        'census_tract': p['ntaname'], \n",
    "        'census_tract_code': p['ntacode'], \n",
    "        'puma': p['puma']\n",
    "    }\n",
    "    \n",
    "    # adds bounding box to rtree index\n",
    "    idx.insert(i, (minx, miny, maxx, maxy))\n",
    "    \n",
    "    i+=1\n",
    "    \n",
    "def map_borough_census_tract(row):\n",
    "    \n",
    "    x = row.longitude\n",
    "    y = row.latitude\n",
    "    point = Point(row.longitude, row.latitude)\n",
    "    \n",
    "    # finds a list of geo entries that potentially hold the point\n",
    "    inter = [ geo[i] for i in idx.intersection((x,y,x,y)) ]\n",
    "    \n",
    "    row['borough'], row['census_tract'], row['census_tract_code'], row['puma'] = \"\",\"\",\"\",\"\"\n",
    "    \n",
    "    # finds the actual geo entry that holds the point, and produces the new row entries\n",
    "    for p in inter:\n",
    "        if p['polygon'].contains(point):\n",
    "            row['borough'], row['census_tract'], row['census_tract_code'], row['puma'] = p['borough'], p['census_tract'], p['census_tract_code'], p['puma']\n",
    "            break\n",
    "    \n",
    "    return row\n",
    "\n",
    "dfs = dfs.progress_apply(map_borough_census_tract, axis=1)\n",
    "dfs.to_csv('processed/streets.csv.gz', compression=\"gzip\")\n",
    "dfs.head(1)"
   ]
  },
  {
   "cell_type": "markdown",
   "metadata": {
    "collapsed": true,
    "deletable": true,
    "editable": true
   },
   "source": [
    "### Add street, number, borough, census_tract to complaint data"
   ]
  },
  {
   "cell_type": "code",
   "execution_count": 57,
   "metadata": {
    "collapsed": false,
    "deletable": true,
    "editable": true
   },
   "outputs": [],
   "source": [
    "from scipy.spatial import KDTree\n",
    "\n",
    "# https://docs.scipy.org/doc/scipy-0.14.0/reference/generated/scipy.spatial.KDTree.html\n",
    "# builds a kdtree to speed up the lookup between streets and latitude/longitude in the complaints dataset\n",
    "tree = KDTree(dfs[['latitude','longitude']].values)"
   ]
  },
  {
   "cell_type": "code",
   "execution_count": 58,
   "metadata": {
    "collapsed": false,
    "deletable": true,
    "editable": true
   },
   "outputs": [
    {
     "name": "stderr",
     "output_type": "stream",
     "text": [
      "100it [00:01, 94.09it/s]              \n"
     ]
    }
   ],
   "source": [
    "def map_street(row):\n",
    "    i = tree.query([row.latitude, row.longitude])[1] # tree.query returns (distance, index)\n",
    "    d = dfs.iloc[i]\n",
    "    row['street'], row['number'], row['postcode'], row['borough'], row['census_tract'], row['census_tract_code'], row['puma'] = d.street, d.number, d.postcode, d.borough, d.census_tract, d.census_tract_code, d.puma\n",
    "    return row\n",
    "\n",
    "# geospacial join between complaints and streets datasets\n",
    "df = df.progress_apply(map_street, axis=1)\n",
    "df.head()\n",
    "\n",
    "df.to_csv('processed/complaints.csv.gz', compression=\"gzip\")"
   ]
  },
  {
   "cell_type": "code",
   "execution_count": 59,
   "metadata": {
    "collapsed": false,
    "deletable": true,
    "editable": true
   },
   "outputs": [
    {
     "data": {
      "text/html": [
       "<div>\n",
       "<table border=\"1\" class=\"dataframe\">\n",
       "  <thead>\n",
       "    <tr style=\"text-align: right;\">\n",
       "      <th></th>\n",
       "      <th>from_date</th>\n",
       "      <th>from_time</th>\n",
       "      <th>to_date</th>\n",
       "      <th>to_time</th>\n",
       "      <th>offense</th>\n",
       "      <th>offense_description</th>\n",
       "      <th>occurence</th>\n",
       "      <th>premise</th>\n",
       "      <th>borough</th>\n",
       "      <th>latitude</th>\n",
       "      <th>longitude</th>\n",
       "      <th>street</th>\n",
       "      <th>number</th>\n",
       "      <th>postcode</th>\n",
       "      <th>census_tract</th>\n",
       "      <th>census_tract_code</th>\n",
       "      <th>puma</th>\n",
       "    </tr>\n",
       "  </thead>\n",
       "  <tbody>\n",
       "    <tr>\n",
       "      <th>0</th>\n",
       "      <td>12/27/2016</td>\n",
       "      <td>22:38:00</td>\n",
       "      <td>12/28/2016</td>\n",
       "      <td>07:05:00</td>\n",
       "      <td>GRAND LARCENY OF MOTOR VEHICLE</td>\n",
       "      <td>LARCENY,GRAND OF AUTO</td>\n",
       "      <td>FRONT OF</td>\n",
       "      <td>STREET</td>\n",
       "      <td>Manhattan</td>\n",
       "      <td>40.765125</td>\n",
       "      <td>-73.959508</td>\n",
       "      <td>EAST 64 STREET</td>\n",
       "      <td>410</td>\n",
       "      <td>10065</td>\n",
       "      <td>Lenox Hill-Roosevelt Island</td>\n",
       "      <td>MN31</td>\n",
       "      <td>3805</td>\n",
       "    </tr>\n",
       "  </tbody>\n",
       "</table>\n",
       "</div>"
      ],
      "text/plain": [
       "    from_date from_time     to_date   to_time                         offense  \\\n",
       "0  12/27/2016  22:38:00  12/28/2016  07:05:00  GRAND LARCENY OF MOTOR VEHICLE   \n",
       "\n",
       "     offense_description occurence premise    borough   latitude  longitude  \\\n",
       "0  LARCENY,GRAND OF AUTO  FRONT OF  STREET  Manhattan  40.765125 -73.959508   \n",
       "\n",
       "           street number postcode                 census_tract  \\\n",
       "0  EAST 64 STREET    410    10065  Lenox Hill-Roosevelt Island   \n",
       "\n",
       "  census_tract_code  puma  \n",
       "0              MN31  3805  "
      ]
     },
     "execution_count": 59,
     "metadata": {},
     "output_type": "execute_result"
    }
   ],
   "source": [
    "df.head(1)"
   ]
  },
  {
   "cell_type": "code",
   "execution_count": null,
   "metadata": {
    "collapsed": true,
    "deletable": true,
    "editable": true
   },
   "outputs": [],
   "source": []
  }
 ],
 "metadata": {
  "kernelspec": {
   "display_name": "Python 3",
   "language": "python",
   "name": "python3"
  },
  "language_info": {
   "codemirror_mode": {
    "name": "ipython",
    "version": 3
   },
   "file_extension": ".py",
   "mimetype": "text/x-python",
   "name": "python",
   "nbconvert_exporter": "python",
   "pygments_lexer": "ipython3",
   "version": "3.5.2"
  }
 },
 "nbformat": 4,
 "nbformat_minor": 2
}
