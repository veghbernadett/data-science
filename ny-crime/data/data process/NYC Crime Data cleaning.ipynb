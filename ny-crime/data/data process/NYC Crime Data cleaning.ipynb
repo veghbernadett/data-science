{
 "cells": [
  {
   "cell_type": "markdown",
   "metadata": {},
   "source": [
    "# NYC Crime Data Analysis"
   ]
  },
  {
   "cell_type": "markdown",
   "metadata": {},
   "source": [
    "## About the data"
   ]
  },
  {
   "cell_type": "markdown",
   "metadata": {
    "collapsed": true
   },
   "source": [
    "It visualizes the trends of major crimes in the New York across time and locations. I'm interested in whether specific time during a day, or specific day during a week, or specific month in a year would have more crime instances than other of the time periods. I want to explore with the dataset and predict the probabilty of crime categories. The datasets are provided by NYC Open Data. I used [NYPD_Complaint_Data_Current dataset](https://data.cityofnewyork.us/Public-Safety/NYPD-Complaint-Data-Current-YTD/5uac-w243 ) for 2017 and NYPD_Complaint_Data_Historic for previous years. The dataset includes information on the type of crime, the location where the arrest occurred, and the date/time. There are 3 different types of law_category as VIOLATION, MISDEMEANOR, FELONY and there are offense categories such as PETIT LARCENY, HARRASSMENT, ASSAULT, DANGEROUS DRUGS, GRAND LARCENY.  \n",
    "  \n",
    "The [NYPD_Complaint_Data_Historic](https://data.cityofnewyork.us/Public-Safety/NYPD-Complaint-Data-Historic/qgea-i56i) dataset is too large to fit into the memory and we can't work with it in pandas. We sampled the data and the new file ( NYPD_Complaint_Data_Historic_sample.csv ) is 10% of the orginal dataset. We randomly select 558003 lines from the suffeled historic data (the file contains 5580036 lines). The probability of being selected be the same for every line in the file."
   ]
  },
  {
   "cell_type": "markdown",
   "metadata": {},
   "source": [
    "**Field Names and Descriptions are as follows:**"
   ]
  },
  {
   "cell_type": "code",
   "execution_count": 1,
   "metadata": {},
   "outputs": [
    {
     "data": {
      "text/html": [
       "<script>requirejs.config({paths: { 'plotly': ['https://cdn.plot.ly/plotly-latest.min']},});if(!window.Plotly) {{require(['plotly'],function(plotly) {window.Plotly=plotly;});}}</script>"
      ],
      "text/plain": [
       "<IPython.core.display.HTML object>"
      ]
     },
     "metadata": {},
     "output_type": "display_data"
    },
    {
     "data": {
      "text/html": [
       "<div id=\"20d8178b-4a8e-419c-9e9b-c942df60a351\" style=\"height: 770px; width: 100%;\" class=\"plotly-graph-div\"></div><script type=\"text/javascript\">require([\"plotly\"], function(Plotly) { window.PLOTLYENV=window.PLOTLYENV || {};window.PLOTLYENV.BASE_URL=\"https://plot.ly\";Plotly.newPlot(\"20d8178b-4a8e-419c-9e9b-c942df60a351\", [{\"type\": \"heatmap\", \"z\": [[0, 0], [0.5, 0.5], [1, 1], [0.5, 0.5], [1, 1], [0.5, 0.5], [1, 1], [0.5, 0.5], [1, 1], [0.5, 0.5], [1, 1], [0.5, 0.5], [1, 1], [0.5, 0.5], [1, 1], [0.5, 0.5], [1, 1], [0.5, 0.5], [1, 1], [0.5, 0.5], [1, 1], [0.5, 0.5], [1, 1], [0.5, 0.5]], \"opacity\": 0.75, \"colorscale\": [[0, \"#00083e\"], [0.5, \"#ededee\"], [1, \"#ffffff\"]], \"showscale\": false, \"hoverinfo\": \"none\"}], {\"annotations\": [{\"text\": \"<b>Column</b>\", \"x\": -0.45, \"y\": 0, \"xref\": \"x1\", \"yref\": \"y1\", \"align\": \"left\", \"xanchor\": \"left\", \"font\": {\"color\": \"#ffffff\"}, \"showarrow\": false}, {\"text\": \"<b>Description</b>\", \"x\": 0.55, \"y\": 0, \"xref\": \"x1\", \"yref\": \"y1\", \"align\": \"left\", \"xanchor\": \"left\", \"font\": {\"color\": \"#ffffff\"}, \"showarrow\": false}, {\"text\": \"CMPLNT_NUM\", \"x\": -0.45, \"y\": 1, \"xref\": \"x1\", \"yref\": \"y1\", \"align\": \"left\", \"xanchor\": \"left\", \"font\": {\"color\": \"#000000\"}, \"showarrow\": false}, {\"text\": \"Randomly generated persistent ID for each complaint \", \"x\": 0.55, \"y\": 1, \"xref\": \"x1\", \"yref\": \"y1\", \"align\": \"left\", \"xanchor\": \"left\", \"font\": {\"color\": \"#000000\"}, \"showarrow\": false}, {\"text\": \"CMPLNT_FR_DT\", \"x\": -0.45, \"y\": 2, \"xref\": \"x1\", \"yref\": \"y1\", \"align\": \"left\", \"xanchor\": \"left\", \"font\": {\"color\": \"#000000\"}, \"showarrow\": false}, {\"text\": \"Exact date of occurrence for the reported event (or starting date of occurrence, if CMPLNT_TO_DT exists)\", \"x\": 0.55, \"y\": 2, \"xref\": \"x1\", \"yref\": \"y1\", \"align\": \"left\", \"xanchor\": \"left\", \"font\": {\"color\": \"#000000\"}, \"showarrow\": false}, {\"text\": \"CMPLNT_FR_TM\", \"x\": -0.45, \"y\": 3, \"xref\": \"x1\", \"yref\": \"y1\", \"align\": \"left\", \"xanchor\": \"left\", \"font\": {\"color\": \"#000000\"}, \"showarrow\": false}, {\"text\": \"Exact time of occurrence for the reported event (or starting time of occurrence, if CMPLNT_TO_TM exists)\", \"x\": 0.55, \"y\": 3, \"xref\": \"x1\", \"yref\": \"y1\", \"align\": \"left\", \"xanchor\": \"left\", \"font\": {\"color\": \"#000000\"}, \"showarrow\": false}, {\"text\": \"CMPLNT_TO_DT\", \"x\": -0.45, \"y\": 4, \"xref\": \"x1\", \"yref\": \"y1\", \"align\": \"left\", \"xanchor\": \"left\", \"font\": {\"color\": \"#000000\"}, \"showarrow\": false}, {\"text\": \"Ending date of occurrence for the reported event, if exact time of occurrence is unknown\", \"x\": 0.55, \"y\": 4, \"xref\": \"x1\", \"yref\": \"y1\", \"align\": \"left\", \"xanchor\": \"left\", \"font\": {\"color\": \"#000000\"}, \"showarrow\": false}, {\"text\": \"CMPLNT_TO_TM\", \"x\": -0.45, \"y\": 5, \"xref\": \"x1\", \"yref\": \"y1\", \"align\": \"left\", \"xanchor\": \"left\", \"font\": {\"color\": \"#000000\"}, \"showarrow\": false}, {\"text\": \"Ending time of occurrence for the reported event, if exact time of occurrence is unknown\", \"x\": 0.55, \"y\": 5, \"xref\": \"x1\", \"yref\": \"y1\", \"align\": \"left\", \"xanchor\": \"left\", \"font\": {\"color\": \"#000000\"}, \"showarrow\": false}, {\"text\": \"RPT_DT\", \"x\": -0.45, \"y\": 6, \"xref\": \"x1\", \"yref\": \"y1\", \"align\": \"left\", \"xanchor\": \"left\", \"font\": {\"color\": \"#000000\"}, \"showarrow\": false}, {\"text\": \"Date event was reported to police \", \"x\": 0.55, \"y\": 6, \"xref\": \"x1\", \"yref\": \"y1\", \"align\": \"left\", \"xanchor\": \"left\", \"font\": {\"color\": \"#000000\"}, \"showarrow\": false}, {\"text\": \"KY_CD\", \"x\": -0.45, \"y\": 7, \"xref\": \"x1\", \"yref\": \"y1\", \"align\": \"left\", \"xanchor\": \"left\", \"font\": {\"color\": \"#000000\"}, \"showarrow\": false}, {\"text\": \"Three digit offense classification code\", \"x\": 0.55, \"y\": 7, \"xref\": \"x1\", \"yref\": \"y1\", \"align\": \"left\", \"xanchor\": \"left\", \"font\": {\"color\": \"#000000\"}, \"showarrow\": false}, {\"text\": \"OFNS_DESC\", \"x\": -0.45, \"y\": 8, \"xref\": \"x1\", \"yref\": \"y1\", \"align\": \"left\", \"xanchor\": \"left\", \"font\": {\"color\": \"#000000\"}, \"showarrow\": false}, {\"text\": \"Description of offense corresponding with key code\", \"x\": 0.55, \"y\": 8, \"xref\": \"x1\", \"yref\": \"y1\", \"align\": \"left\", \"xanchor\": \"left\", \"font\": {\"color\": \"#000000\"}, \"showarrow\": false}, {\"text\": \"PD_CD\", \"x\": -0.45, \"y\": 9, \"xref\": \"x1\", \"yref\": \"y1\", \"align\": \"left\", \"xanchor\": \"left\", \"font\": {\"color\": \"#000000\"}, \"showarrow\": false}, {\"text\": \"Three digit internal classification code (more granular than Key Code)\", \"x\": 0.55, \"y\": 9, \"xref\": \"x1\", \"yref\": \"y1\", \"align\": \"left\", \"xanchor\": \"left\", \"font\": {\"color\": \"#000000\"}, \"showarrow\": false}, {\"text\": \"PD_DESC\", \"x\": -0.45, \"y\": 10, \"xref\": \"x1\", \"yref\": \"y1\", \"align\": \"left\", \"xanchor\": \"left\", \"font\": {\"color\": \"#000000\"}, \"showarrow\": false}, {\"text\": \"Description of internal classification corresponding with PD code (more granular than Offense Description)\", \"x\": 0.55, \"y\": 10, \"xref\": \"x1\", \"yref\": \"y1\", \"align\": \"left\", \"xanchor\": \"left\", \"font\": {\"color\": \"#000000\"}, \"showarrow\": false}, {\"text\": \"CRM_ATPT_CPTD_CD\", \"x\": -0.45, \"y\": 11, \"xref\": \"x1\", \"yref\": \"y1\", \"align\": \"left\", \"xanchor\": \"left\", \"font\": {\"color\": \"#000000\"}, \"showarrow\": false}, {\"text\": \"Indicator of whether crime was successfully completed or attempted, but failed or was interrupted prematurely\", \"x\": 0.55, \"y\": 11, \"xref\": \"x1\", \"yref\": \"y1\", \"align\": \"left\", \"xanchor\": \"left\", \"font\": {\"color\": \"#000000\"}, \"showarrow\": false}, {\"text\": \"LAW_CAT_CD\", \"x\": -0.45, \"y\": 12, \"xref\": \"x1\", \"yref\": \"y1\", \"align\": \"left\", \"xanchor\": \"left\", \"font\": {\"color\": \"#000000\"}, \"showarrow\": false}, {\"text\": \"Level of offense: felony, misdemeanor, violation \", \"x\": 0.55, \"y\": 12, \"xref\": \"x1\", \"yref\": \"y1\", \"align\": \"left\", \"xanchor\": \"left\", \"font\": {\"color\": \"#000000\"}, \"showarrow\": false}, {\"text\": \"JURIS_DESC\", \"x\": -0.45, \"y\": 13, \"xref\": \"x1\", \"yref\": \"y1\", \"align\": \"left\", \"xanchor\": \"left\", \"font\": {\"color\": \"#000000\"}, \"showarrow\": false}, {\"text\": \"Jurisdiction responsible for incident. Either internal, like Police, Transit, and Housing; or external, like Correction, Port Authority, etc.\", \"x\": 0.55, \"y\": 13, \"xref\": \"x1\", \"yref\": \"y1\", \"align\": \"left\", \"xanchor\": \"left\", \"font\": {\"color\": \"#000000\"}, \"showarrow\": false}, {\"text\": \"BORO_NM\", \"x\": -0.45, \"y\": 14, \"xref\": \"x1\", \"yref\": \"y1\", \"align\": \"left\", \"xanchor\": \"left\", \"font\": {\"color\": \"#000000\"}, \"showarrow\": false}, {\"text\": \"The name of the borough in which the incident occurred\", \"x\": 0.55, \"y\": 14, \"xref\": \"x1\", \"yref\": \"y1\", \"align\": \"left\", \"xanchor\": \"left\", \"font\": {\"color\": \"#000000\"}, \"showarrow\": false}, {\"text\": \"ADDR_PCT_CD\", \"x\": -0.45, \"y\": 15, \"xref\": \"x1\", \"yref\": \"y1\", \"align\": \"left\", \"xanchor\": \"left\", \"font\": {\"color\": \"#000000\"}, \"showarrow\": false}, {\"text\": \"The precinct in which the incident occurred\", \"x\": 0.55, \"y\": 15, \"xref\": \"x1\", \"yref\": \"y1\", \"align\": \"left\", \"xanchor\": \"left\", \"font\": {\"color\": \"#000000\"}, \"showarrow\": false}, {\"text\": \"LOC_OF_OCCUR_DESC\", \"x\": -0.45, \"y\": 16, \"xref\": \"x1\", \"yref\": \"y1\", \"align\": \"left\", \"xanchor\": \"left\", \"font\": {\"color\": \"#000000\"}, \"showarrow\": false}, {\"text\": \"Specific location of occurrence in or around the premises; inside, opposite of, front of, rear of\", \"x\": 0.55, \"y\": 16, \"xref\": \"x1\", \"yref\": \"y1\", \"align\": \"left\", \"xanchor\": \"left\", \"font\": {\"color\": \"#000000\"}, \"showarrow\": false}, {\"text\": \"PREM_TYP_DESC\", \"x\": -0.45, \"y\": 17, \"xref\": \"x1\", \"yref\": \"y1\", \"align\": \"left\", \"xanchor\": \"left\", \"font\": {\"color\": \"#000000\"}, \"showarrow\": false}, {\"text\": \"Specific description of premises; grocery store, residence, street, etc.\", \"x\": 0.55, \"y\": 17, \"xref\": \"x1\", \"yref\": \"y1\", \"align\": \"left\", \"xanchor\": \"left\", \"font\": {\"color\": \"#000000\"}, \"showarrow\": false}, {\"text\": \"PARKS_NM\", \"x\": -0.45, \"y\": 18, \"xref\": \"x1\", \"yref\": \"y1\", \"align\": \"left\", \"xanchor\": \"left\", \"font\": {\"color\": \"#000000\"}, \"showarrow\": false}, {\"text\": \"Name of NYC park, playground or greenspace of occurrence, if applicable (state parks are not included)\", \"x\": 0.55, \"y\": 18, \"xref\": \"x1\", \"yref\": \"y1\", \"align\": \"left\", \"xanchor\": \"left\", \"font\": {\"color\": \"#000000\"}, \"showarrow\": false}, {\"text\": \"HADEVELOPT\", \"x\": -0.45, \"y\": 19, \"xref\": \"x1\", \"yref\": \"y1\", \"align\": \"left\", \"xanchor\": \"left\", \"font\": {\"color\": \"#000000\"}, \"showarrow\": false}, {\"text\": \"Name of NYCHA housing development of occurrence, if applicable\", \"x\": 0.55, \"y\": 19, \"xref\": \"x1\", \"yref\": \"y1\", \"align\": \"left\", \"xanchor\": \"left\", \"font\": {\"color\": \"#000000\"}, \"showarrow\": false}, {\"text\": \"X_COORD_CD\", \"x\": -0.45, \"y\": 20, \"xref\": \"x1\", \"yref\": \"y1\", \"align\": \"left\", \"xanchor\": \"left\", \"font\": {\"color\": \"#000000\"}, \"showarrow\": false}, {\"text\": \"X-coordinate for New York State Plane Coordinate System, Long Island Zone, NAD 83, units feet (FIPS 3104)\", \"x\": 0.55, \"y\": 20, \"xref\": \"x1\", \"yref\": \"y1\", \"align\": \"left\", \"xanchor\": \"left\", \"font\": {\"color\": \"#000000\"}, \"showarrow\": false}, {\"text\": \"Y_COORD_CD\", \"x\": -0.45, \"y\": 21, \"xref\": \"x1\", \"yref\": \"y1\", \"align\": \"left\", \"xanchor\": \"left\", \"font\": {\"color\": \"#000000\"}, \"showarrow\": false}, {\"text\": \"Y-coordinate for New York State Plane Coordinate System, Long Island Zone, NAD 83, units feet (FIPS 3104)\", \"x\": 0.55, \"y\": 21, \"xref\": \"x1\", \"yref\": \"y1\", \"align\": \"left\", \"xanchor\": \"left\", \"font\": {\"color\": \"#000000\"}, \"showarrow\": false}, {\"text\": \"Latitude\", \"x\": -0.45, \"y\": 22, \"xref\": \"x1\", \"yref\": \"y1\", \"align\": \"left\", \"xanchor\": \"left\", \"font\": {\"color\": \"#000000\"}, \"showarrow\": false}, {\"text\": \"Latitude coordinate for Global Coordinate System, WGS 1984, decimal degrees (EPSG 4326) \", \"x\": 0.55, \"y\": 22, \"xref\": \"x1\", \"yref\": \"y1\", \"align\": \"left\", \"xanchor\": \"left\", \"font\": {\"color\": \"#000000\"}, \"showarrow\": false}, {\"text\": \"Longitude\", \"x\": -0.45, \"y\": 23, \"xref\": \"x1\", \"yref\": \"y1\", \"align\": \"left\", \"xanchor\": \"left\", \"font\": {\"color\": \"#000000\"}, \"showarrow\": false}, {\"text\": \"Longitude coordinate for Global Coordinate System, WGS 1984, decimal degrees (EPSG 4326)\", \"x\": 0.55, \"y\": 23, \"xref\": \"x1\", \"yref\": \"y1\", \"align\": \"left\", \"xanchor\": \"left\", \"font\": {\"color\": \"#000000\"}, \"showarrow\": false}], \"height\": 770, \"margin\": {\"t\": 0, \"b\": 0, \"r\": 0, \"l\": 0}, \"yaxis\": {\"autorange\": \"reversed\", \"zeroline\": false, \"gridwidth\": 2, \"ticks\": \"\", \"dtick\": 1, \"tick0\": 0.5, \"showticklabels\": false}, \"xaxis\": {\"zeroline\": false, \"gridwidth\": 2, \"ticks\": \"\", \"dtick\": 1, \"tick0\": -0.5, \"showticklabels\": false}}, {\"showLink\": true, \"linkText\": \"Export to plot.ly\"})});</script>"
      ],
      "text/plain": [
       "<IPython.core.display.HTML object>"
      ]
     },
     "metadata": {},
     "output_type": "display_data"
    }
   ],
   "source": [
    "import pandas as pd\n",
    "from plotly.offline import download_plotlyjs, init_notebook_mode, plot, iplot\n",
    "from plotly.graph_objs import Scatter, Figure, Layout\n",
    "from plotly.tools import FigureFactory as ff\n",
    "init_notebook_mode(connected=True)\n",
    "\n",
    "dc = { \"Column\":[\"CMPLNT_NUM\", \"CMPLNT_FR_DT\", \"CMPLNT_FR_TM\", \"CMPLNT_TO_DT\", \"CMPLNT_TO_TM\", \"RPT_DT\", \"KY_CD\", \"OFNS_DESC\", \"PD_CD\", \"PD_DESC\", \"CRM_ATPT_CPTD_CD\", \"LAW_CAT_CD\", \"JURIS_DESC\", \"BORO_NM\", \"ADDR_PCT_CD\", \"LOC_OF_OCCUR_DESC\", \"PREM_TYP_DESC\", \"PARKS_NM\", \"HADEVELOPT\", \"X_COORD_CD\", \"Y_COORD_CD\", \"Latitude\", \"Longitude\"],\n",
    "       \"Description\":[\"Randomly generated persistent ID for each complaint \", \"Exact date of occurrence for the reported event (or starting date of occurrence, if CMPLNT_TO_DT exists)\", \"Exact time of occurrence for the reported event (or starting time of occurrence, if CMPLNT_TO_TM exists)\", \"Ending date of occurrence for the reported event, if exact time of occurrence is unknown\", \"Ending time of occurrence for the reported event, if exact time of occurrence is unknown\", \"Date event was reported to police \", \"Three digit offense classification code\", \"Description of offense corresponding with key code\", \"Three digit internal classification code (more granular than Key Code)\", \"Description of internal classification corresponding with PD code (more granular than Offense Description)\", \"Indicator of whether crime was successfully completed or attempted, but failed or was interrupted prematurely\", \"Level of offense: felony, misdemeanor, violation \", \"Jurisdiction responsible for incident. Either internal, like Police, Transit, and Housing; or external, like Correction, Port Authority, etc.\", \"The name of the borough in which the incident occurred\", \"The precinct in which the incident occurred\", \"Specific location of occurrence in or around the premises; inside, opposite of, front of, rear of\", \"Specific description of premises; grocery store, residence, street, etc.\", \"Name of NYC park, playground or greenspace of occurrence, if applicable (state parks are not included)\", \"Name of NYCHA housing development of occurrence, if applicable\", \"X-coordinate for New York State Plane Coordinate System, Long Island Zone, NAD 83, units feet (FIPS 3104)\", \"Y-coordinate for New York State Plane Coordinate System, Long Island Zone, NAD 83, units feet (FIPS 3104)\", \"Latitude coordinate for Global Coordinate System, WGS 1984, decimal degrees (EPSG 4326) \", \"Longitude coordinate for Global Coordinate System, WGS 1984, decimal degrees (EPSG 4326)\"]  \n",
    "       }\n",
    "dc_df=pd.DataFrame.from_dict(dc)\n",
    "\n",
    "table = ff.create_table(dc_df)\n",
    "iplot(table, filename='simple_table')"
   ]
  },
  {
   "cell_type": "markdown",
   "metadata": {},
   "source": [
    "## Methodology"
   ]
  },
  {
   "cell_type": "markdown",
   "metadata": {},
   "source": [
    "Do more violent crime happen in New York other crime incidents?  \n",
    "Are there any relationships between specific months/days/time of the year?  \n",
    "Do more crime incidents happen in certain geographic areas of the city?  \n",
    "\n",
    "**Our hypothesis:**  \n",
    "What is the proportion of types of crime those have been committed in the different parts of the city.  \n",
    "Let's assume that the violance related crime has a highest probaility.  \n",
    "\n",
    "We test the prediction by looking the pattern of crime and the known data if we find evidence our hypothesis has to be consider true.  \n",
    "\n",
    "**Analysis plan:**  \n",
    "We load and clean the dataset.  \n",
    "Sample and clean the historical data file.  \n",
    "Explore the data and find pattern and relationship between the features.  \n",
    "Creating new features if necessary.  \n",
    "Build predictive models and choose the best model for forecast.  \n",
    "Evalute the performance of the model  \n",
    "Conclusion  "
   ]
  },
  {
   "cell_type": "markdown",
   "metadata": {},
   "source": [
    "## Setup"
   ]
  },
  {
   "cell_type": "code",
   "execution_count": 2,
   "metadata": {
    "collapsed": true
   },
   "outputs": [],
   "source": [
    "import numpy as np\n",
    "import pandas as pd\n",
    "\n",
    "from IPython.display import display\n",
    "\n",
    "import matplotlib  \n",
    "import matplotlib.pyplot as plt  \n",
    "from matplotlib import rcParams\n",
    "\n",
    "import seaborn as sns\n",
    "sns.set(style='ticks', palette='Set2')\n",
    "\n",
    "from altair import Chart, Color, Scale\n",
    "\n",
    "import calendar"
   ]
  },
  {
   "cell_type": "code",
   "execution_count": 3,
   "metadata": {
    "collapsed": true
   },
   "outputs": [],
   "source": [
    "%config InlineBackend.figure_format = 'retina'\n",
    "%matplotlib inline"
   ]
  },
  {
   "cell_type": "code",
   "execution_count": 4,
   "metadata": {},
   "outputs": [
    {
     "data": {
      "application/javascript": [
       "IPython.OutputArea.auto_scroll_threshold = 9999;"
      ],
      "text/plain": [
       "<IPython.core.display.Javascript object>"
      ]
     },
     "metadata": {},
     "output_type": "display_data"
    }
   ],
   "source": [
    "%%javascript\n",
    "IPython.OutputArea.auto_scroll_threshold = 9999;"
   ]
  },
  {
   "cell_type": "code",
   "execution_count": 5,
   "metadata": {
    "collapsed": true
   },
   "outputs": [],
   "source": [
    "pd.set_option('display.max_rows', 999)\n",
    "pd.set_option('display.max_columns', 9999)"
   ]
  },
  {
   "cell_type": "markdown",
   "metadata": {},
   "source": [
    "## Dataset for 2017"
   ]
  },
  {
   "cell_type": "markdown",
   "metadata": {},
   "source": [
    "## Dataset"
   ]
  },
  {
   "cell_type": "code",
   "execution_count": 6,
   "metadata": {},
   "outputs": [
    {
     "data": {
      "text/html": [
       "<div>\n",
       "<style>\n",
       "    .dataframe thead tr:only-child th {\n",
       "        text-align: right;\n",
       "    }\n",
       "\n",
       "    .dataframe thead th {\n",
       "        text-align: left;\n",
       "    }\n",
       "\n",
       "    .dataframe tbody tr th {\n",
       "        vertical-align: top;\n",
       "    }\n",
       "</style>\n",
       "<table border=\"1\" class=\"dataframe\">\n",
       "  <thead>\n",
       "    <tr style=\"text-align: right;\">\n",
       "      <th></th>\n",
       "      <th>CMPLNT_NUM</th>\n",
       "      <th>CMPLNT_FR_DT</th>\n",
       "      <th>CMPLNT_FR_TM</th>\n",
       "      <th>CMPLNT_TO_DT</th>\n",
       "      <th>CMPLNT_TO_TM</th>\n",
       "      <th>RPT_DT</th>\n",
       "      <th>KY_CD</th>\n",
       "      <th>OFNS_DESC</th>\n",
       "      <th>PD_CD</th>\n",
       "      <th>PD_DESC</th>\n",
       "      <th>CRM_ATPT_CPTD_CD</th>\n",
       "      <th>LAW_CAT_CD</th>\n",
       "      <th>JURIS_DESC</th>\n",
       "      <th>BORO_NM</th>\n",
       "      <th>ADDR_PCT_CD</th>\n",
       "      <th>LOC_OF_OCCUR_DESC</th>\n",
       "      <th>PREM_TYP_DESC</th>\n",
       "      <th>PARKS_NM</th>\n",
       "      <th>HADEVELOPT</th>\n",
       "      <th>X_COORD_CD</th>\n",
       "      <th>Y_COORD_CD</th>\n",
       "      <th>Latitude</th>\n",
       "      <th>Longitude</th>\n",
       "      <th>Lat_Lon</th>\n",
       "    </tr>\n",
       "  </thead>\n",
       "  <tbody>\n",
       "    <tr>\n",
       "      <th>0</th>\n",
       "      <td>845348933</td>\n",
       "      <td>03/31/2017</td>\n",
       "      <td>23:30:00</td>\n",
       "      <td>NaN</td>\n",
       "      <td>NaN</td>\n",
       "      <td>03/31/2017</td>\n",
       "      <td>578</td>\n",
       "      <td>HARRASSMENT 2</td>\n",
       "      <td>638.0</td>\n",
       "      <td>HARASSMENT,SUBD 3,4,5</td>\n",
       "      <td>COMPLETED</td>\n",
       "      <td>VIOLATION</td>\n",
       "      <td>N.Y. POLICE DEPT</td>\n",
       "      <td>BROOKLYN</td>\n",
       "      <td>69.0</td>\n",
       "      <td>INSIDE</td>\n",
       "      <td>RESIDENCE - APT. HOUSE</td>\n",
       "      <td>NaN</td>\n",
       "      <td>NaN</td>\n",
       "      <td>1,012,423</td>\n",
       "      <td>171,737</td>\n",
       "      <td>40.638018</td>\n",
       "      <td>-73.898491</td>\n",
       "      <td>(40.638018389, -73.898491201)</td>\n",
       "    </tr>\n",
       "  </tbody>\n",
       "</table>\n",
       "</div>"
      ],
      "text/plain": [
       "   CMPLNT_NUM CMPLNT_FR_DT CMPLNT_FR_TM CMPLNT_TO_DT CMPLNT_TO_TM      RPT_DT  \\\n",
       "0   845348933   03/31/2017     23:30:00          NaN          NaN  03/31/2017   \n",
       "\n",
       "   KY_CD      OFNS_DESC  PD_CD                PD_DESC CRM_ATPT_CPTD_CD  \\\n",
       "0    578  HARRASSMENT 2  638.0  HARASSMENT,SUBD 3,4,5        COMPLETED   \n",
       "\n",
       "  LAW_CAT_CD        JURIS_DESC   BORO_NM  ADDR_PCT_CD LOC_OF_OCCUR_DESC  \\\n",
       "0  VIOLATION  N.Y. POLICE DEPT  BROOKLYN         69.0            INSIDE   \n",
       "\n",
       "            PREM_TYP_DESC PARKS_NM HADEVELOPT X_COORD_CD Y_COORD_CD  \\\n",
       "0  RESIDENCE - APT. HOUSE      NaN        NaN  1,012,423    171,737   \n",
       "\n",
       "    Latitude  Longitude                        Lat_Lon  \n",
       "0  40.638018 -73.898491  (40.638018389, -73.898491201)  "
      ]
     },
     "execution_count": 6,
     "metadata": {},
     "output_type": "execute_result"
    }
   ],
   "source": [
    "# Retrieving Data\n",
    "\n",
    "df=pd.read_csv('NYPD_Complaint_Data_Current_YTD.csv')\n",
    "df.head(1)"
   ]
  },
  {
   "cell_type": "code",
   "execution_count": 7,
   "metadata": {},
   "outputs": [
    {
     "data": {
      "text/html": [
       "<div>\n",
       "<style>\n",
       "    .dataframe thead tr:only-child th {\n",
       "        text-align: right;\n",
       "    }\n",
       "\n",
       "    .dataframe thead th {\n",
       "        text-align: left;\n",
       "    }\n",
       "\n",
       "    .dataframe tbody tr th {\n",
       "        vertical-align: top;\n",
       "    }\n",
       "</style>\n",
       "<table border=\"1\" class=\"dataframe\">\n",
       "  <thead>\n",
       "    <tr style=\"text-align: right;\">\n",
       "      <th></th>\n",
       "      <th>from_date</th>\n",
       "      <th>from_time</th>\n",
       "      <th>to_date</th>\n",
       "      <th>to_time</th>\n",
       "      <th>offense</th>\n",
       "      <th>offense_description</th>\n",
       "      <th>law_category</th>\n",
       "      <th>occurence</th>\n",
       "      <th>premise</th>\n",
       "      <th>borough</th>\n",
       "      <th>latitude</th>\n",
       "      <th>longitude</th>\n",
       "    </tr>\n",
       "  </thead>\n",
       "  <tbody>\n",
       "    <tr>\n",
       "      <th>0</th>\n",
       "      <td>03/31/2017</td>\n",
       "      <td>23:30:00</td>\n",
       "      <td>NaN</td>\n",
       "      <td>NaN</td>\n",
       "      <td>HARRASSMENT 2</td>\n",
       "      <td>HARASSMENT,SUBD 3,4,5</td>\n",
       "      <td>VIOLATION</td>\n",
       "      <td>INSIDE</td>\n",
       "      <td>RESIDENCE - APT. HOUSE</td>\n",
       "      <td>BROOKLYN</td>\n",
       "      <td>40.638018</td>\n",
       "      <td>-73.898491</td>\n",
       "    </tr>\n",
       "  </tbody>\n",
       "</table>\n",
       "</div>"
      ],
      "text/plain": [
       "    from_date from_time to_date to_time        offense    offense_description  \\\n",
       "0  03/31/2017  23:30:00     NaN     NaN  HARRASSMENT 2  HARASSMENT,SUBD 3,4,5   \n",
       "\n",
       "  law_category occurence                 premise   borough   latitude  \\\n",
       "0    VIOLATION    INSIDE  RESIDENCE - APT. HOUSE  BROOKLYN  40.638018   \n",
       "\n",
       "   longitude  \n",
       "0 -73.898491  "
      ]
     },
     "execution_count": 7,
     "metadata": {},
     "output_type": "execute_result"
    }
   ],
   "source": [
    "# rename the columns\n",
    "\n",
    "from collections import OrderedDict\n",
    "\n",
    "columns = OrderedDict()\n",
    "columns['CMPLNT_FR_DT'] = \"from_date\" \n",
    "columns['CMPLNT_FR_TM'] = \"from_time\" \n",
    "columns['CMPLNT_TO_DT'] = \"to_date\" \n",
    "columns['CMPLNT_TO_TM'] = \"to_time\" \n",
    "columns['OFNS_DESC'] = \"offense\" \n",
    "columns['PD_DESC'] = \"offense_description\" \n",
    "columns['LAW_CAT_CD'] = \"law_category\" \n",
    "columns['LOC_OF_OCCUR_DESC'] = \"occurence\" \n",
    "columns['PREM_TYP_DESC'] = \"premise\" \n",
    "columns['BORO_NM'] = \"borough\" \n",
    "columns['Latitude'] = \"latitude\" \n",
    "columns['Longitude'] = \"longitude\"\n",
    "\n",
    "df = df[list(columns.keys())]\n",
    "df.columns = columns.values()\n",
    "\n",
    "df.dropna(subset=['latitude','longitude'], inplace=True)\n",
    "\n",
    "df.head(1)"
   ]
  },
  {
   "cell_type": "markdown",
   "metadata": {},
   "source": [
    "## Data cleaning"
   ]
  },
  {
   "cell_type": "code",
   "execution_count": 8,
   "metadata": {},
   "outputs": [
    {
     "data": {
      "text/plain": [
       "(106466, 12)"
      ]
     },
     "execution_count": 8,
     "metadata": {},
     "output_type": "execute_result"
    }
   ],
   "source": [
    "# no. of the rows and columns\n",
    "\n",
    "df.shape"
   ]
  },
  {
   "cell_type": "code",
   "execution_count": 9,
   "metadata": {},
   "outputs": [
    {
     "name": "stdout",
     "output_type": "stream",
     "text": [
      "from_date                  0\n",
      "from_time                  0\n",
      "to_date                16786\n",
      "to_time                16748\n",
      "offense                   13\n",
      "offense_description       60\n",
      "law_category               0\n",
      "occurence              20061\n",
      "premise                  452\n",
      "borough                    0\n",
      "latitude                   0\n",
      "longitude                  0\n",
      "dtype: int64\n"
     ]
    }
   ],
   "source": [
    "# checking missing values\n",
    "\n",
    "print(df.isnull().sum())"
   ]
  },
  {
   "cell_type": "code",
   "execution_count": 10,
   "metadata": {
    "collapsed": true
   },
   "outputs": [],
   "source": [
    "# correct incorrect date\n",
    "\n",
    "df.loc[df['from_date'].str.contains('1017'), 'from_date'] = df['from_date'].str.replace('1017', '2017')"
   ]
  },
  {
   "cell_type": "code",
   "execution_count": 11,
   "metadata": {
    "collapsed": true
   },
   "outputs": [],
   "source": [
    "# convert to datetime\n",
    "\n",
    "df['from_date']=pd.to_datetime(df['from_date'])\n",
    "df['to_date']=pd.to_datetime(df['to_date'])"
   ]
  },
  {
   "cell_type": "code",
   "execution_count": 12,
   "metadata": {},
   "outputs": [
    {
     "data": {
      "text/plain": [
       "from_date              datetime64[ns]\n",
       "from_time                      object\n",
       "to_date                datetime64[ns]\n",
       "to_time                        object\n",
       "offense                        object\n",
       "offense_description            object\n",
       "law_category                   object\n",
       "occurence                      object\n",
       "premise                        object\n",
       "borough                        object\n",
       "latitude                      float64\n",
       "longitude                     float64\n",
       "dtype: object"
      ]
     },
     "execution_count": 12,
     "metadata": {},
     "output_type": "execute_result"
    }
   ],
   "source": [
    "df.dtypes"
   ]
  },
  {
   "cell_type": "code",
   "execution_count": 13,
   "metadata": {
    "collapsed": true
   },
   "outputs": [],
   "source": [
    "# add new coloums\n",
    "\n",
    "# year\n",
    "\n",
    "df['year'] = pd.DatetimeIndex(df['from_date']).year\n",
    "\n",
    "\n",
    "# Month\n",
    "\n",
    "df['Month'] = df['from_date'].dt.month\n",
    "df['Month'] = df['Month'].apply(lambda x: calendar.month_abbr[x])\n",
    "\n",
    "# Weekday\n",
    "\n",
    "df['weekday'] = df['from_date'].dt.weekday_name\n"
   ]
  },
  {
   "cell_type": "code",
   "execution_count": 14,
   "metadata": {},
   "outputs": [
    {
     "data": {
      "text/html": [
       "<div>\n",
       "<style>\n",
       "    .dataframe thead tr:only-child th {\n",
       "        text-align: right;\n",
       "    }\n",
       "\n",
       "    .dataframe thead th {\n",
       "        text-align: left;\n",
       "    }\n",
       "\n",
       "    .dataframe tbody tr th {\n",
       "        vertical-align: top;\n",
       "    }\n",
       "</style>\n",
       "<table border=\"1\" class=\"dataframe\">\n",
       "  <thead>\n",
       "    <tr style=\"text-align: right;\">\n",
       "      <th></th>\n",
       "      <th>from_date</th>\n",
       "      <th>holiday</th>\n",
       "    </tr>\n",
       "  </thead>\n",
       "  <tbody>\n",
       "    <tr>\n",
       "      <th>2411</th>\n",
       "      <td>2011-08-09</td>\n",
       "      <td>False</td>\n",
       "    </tr>\n",
       "    <tr>\n",
       "      <th>844</th>\n",
       "      <td>2007-04-25</td>\n",
       "      <td>False</td>\n",
       "    </tr>\n",
       "    <tr>\n",
       "      <th>4049</th>\n",
       "      <td>2016-02-02</td>\n",
       "      <td>False</td>\n",
       "    </tr>\n",
       "    <tr>\n",
       "      <th>1665</th>\n",
       "      <td>2009-07-24</td>\n",
       "      <td>False</td>\n",
       "    </tr>\n",
       "    <tr>\n",
       "      <th>1597</th>\n",
       "      <td>2009-05-17</td>\n",
       "      <td>False</td>\n",
       "    </tr>\n",
       "    <tr>\n",
       "      <th>3361</th>\n",
       "      <td>2014-03-16</td>\n",
       "      <td>False</td>\n",
       "    </tr>\n",
       "    <tr>\n",
       "      <th>3986</th>\n",
       "      <td>2015-12-01</td>\n",
       "      <td>False</td>\n",
       "    </tr>\n",
       "    <tr>\n",
       "      <th>527</th>\n",
       "      <td>2006-06-12</td>\n",
       "      <td>False</td>\n",
       "    </tr>\n",
       "    <tr>\n",
       "      <th>2210</th>\n",
       "      <td>2011-01-20</td>\n",
       "      <td>False</td>\n",
       "    </tr>\n",
       "    <tr>\n",
       "      <th>2725</th>\n",
       "      <td>2012-06-18</td>\n",
       "      <td>False</td>\n",
       "    </tr>\n",
       "  </tbody>\n",
       "</table>\n",
       "</div>"
      ],
      "text/plain": [
       "      from_date  holiday\n",
       "2411 2011-08-09    False\n",
       "844  2007-04-25    False\n",
       "4049 2016-02-02    False\n",
       "1665 2009-07-24    False\n",
       "1597 2009-05-17    False\n",
       "3361 2014-03-16    False\n",
       "3986 2015-12-01    False\n",
       "527  2006-06-12    False\n",
       "2210 2011-01-20    False\n",
       "2725 2012-06-18    False"
      ]
     },
     "execution_count": 14,
     "metadata": {},
     "output_type": "execute_result"
    }
   ],
   "source": [
    "# Holiday\n",
    "\n",
    "from pandas.tseries.holiday import USFederalHolidayCalendar as calendar\n",
    "\n",
    "dr = pd.date_range(start='2005-01-01', end='2017-05-01')\n",
    "dff = pd.DataFrame()\n",
    "dff['Date'] = dr\n",
    "\n",
    "cal = calendar()\n",
    "holidays = cal.holidays(start=dr.min(), end=dr.max())\n",
    "\n",
    "dff['Holiday'] = dff['Date'].isin(holidays)\n",
    "dff.columns = ['from_date', 'holiday']\n",
    "dff.sample(10)"
   ]
  },
  {
   "cell_type": "code",
   "execution_count": 15,
   "metadata": {
    "collapsed": true
   },
   "outputs": [],
   "source": [
    "df=pd.merge(df, dff, how='left', on='from_date')"
   ]
  },
  {
   "cell_type": "code",
   "execution_count": 16,
   "metadata": {
    "collapsed": true
   },
   "outputs": [],
   "source": [
    "# hour\n",
    "\n",
    "df['hour'] = pd.DatetimeIndex(df['from_time']).hour"
   ]
  },
  {
   "cell_type": "code",
   "execution_count": 17,
   "metadata": {
    "collapsed": true
   },
   "outputs": [],
   "source": [
    "# create time column\n",
    "from datetime import datetime\n",
    "\n",
    "df['time_str'] = df.from_date.astype(str) + \" \" + df.from_time.astype(str)\n",
    "df['time'] = df.time_str.map(lambda v:datetime.strptime(v, '%Y-%m-%d %H:%M:%S'))"
   ]
  },
  {
   "cell_type": "code",
   "execution_count": 18,
   "metadata": {
    "collapsed": true
   },
   "outputs": [],
   "source": [
    "# no. of the month\n",
    "df['no_of_month'] = df.time.dt.month"
   ]
  },
  {
   "cell_type": "code",
   "execution_count": 19,
   "metadata": {
    "collapsed": true
   },
   "outputs": [],
   "source": [
    "# Day of the month\n",
    "df['Day_of_month'] = df['from_date'].dt.day"
   ]
  },
  {
   "cell_type": "code",
   "execution_count": 20,
   "metadata": {
    "collapsed": true
   },
   "outputs": [],
   "source": [
    "# column no. of the weekday\n",
    "import calendar\n",
    "\n",
    "d=dict(enumerate(calendar.day_name))\n",
    "\n",
    "d_df = pd.DataFrame.from_dict(d, orient='index').reset_index()\n",
    "d_df.columns = ['no_of_weekday', 'weekday']\n",
    "\n",
    "df=pd.merge(df, d_df, how='left', on='weekday')"
   ]
  },
  {
   "cell_type": "code",
   "execution_count": 21,
   "metadata": {},
   "outputs": [
    {
     "data": {
      "text/html": [
       "<div>\n",
       "<style>\n",
       "    .dataframe thead tr:only-child th {\n",
       "        text-align: right;\n",
       "    }\n",
       "\n",
       "    .dataframe thead th {\n",
       "        text-align: left;\n",
       "    }\n",
       "\n",
       "    .dataframe tbody tr th {\n",
       "        vertical-align: top;\n",
       "    }\n",
       "</style>\n",
       "<table border=\"1\" class=\"dataframe\">\n",
       "  <thead>\n",
       "    <tr style=\"text-align: right;\">\n",
       "      <th></th>\n",
       "      <th>from_date</th>\n",
       "      <th>from_time</th>\n",
       "      <th>to_date</th>\n",
       "      <th>to_time</th>\n",
       "      <th>offense</th>\n",
       "      <th>offense_description</th>\n",
       "      <th>law_category</th>\n",
       "      <th>occurence</th>\n",
       "      <th>premise</th>\n",
       "      <th>borough</th>\n",
       "      <th>latitude</th>\n",
       "      <th>longitude</th>\n",
       "      <th>year</th>\n",
       "      <th>Month</th>\n",
       "      <th>weekday</th>\n",
       "      <th>holiday</th>\n",
       "      <th>hour</th>\n",
       "      <th>time_str</th>\n",
       "      <th>time</th>\n",
       "      <th>no_of_month</th>\n",
       "      <th>Day_of_month</th>\n",
       "      <th>no_of_weekday</th>\n",
       "    </tr>\n",
       "  </thead>\n",
       "  <tbody>\n",
       "    <tr>\n",
       "      <th>57953</th>\n",
       "      <td>2017-02-08</td>\n",
       "      <td>12:00:00</td>\n",
       "      <td>2017-02-08</td>\n",
       "      <td>14:00:00</td>\n",
       "      <td>OFF. AGNST PUB ORD SENSBLTY &amp;</td>\n",
       "      <td>AGGRAVATED HARASSMENT 2</td>\n",
       "      <td>MISDEMEANOR</td>\n",
       "      <td>FRONT OF</td>\n",
       "      <td>RESIDENCE - APT. HOUSE</td>\n",
       "      <td>QUEENS</td>\n",
       "      <td>40.746473</td>\n",
       "      <td>-73.876261</td>\n",
       "      <td>2017</td>\n",
       "      <td>Feb</td>\n",
       "      <td>Wednesday</td>\n",
       "      <td>False</td>\n",
       "      <td>12</td>\n",
       "      <td>2017-02-08 12:00:00</td>\n",
       "      <td>2017-02-08 12:00:00</td>\n",
       "      <td>2</td>\n",
       "      <td>8</td>\n",
       "      <td>2</td>\n",
       "    </tr>\n",
       "  </tbody>\n",
       "</table>\n",
       "</div>"
      ],
      "text/plain": [
       "       from_date from_time    to_date   to_time  \\\n",
       "57953 2017-02-08  12:00:00 2017-02-08  14:00:00   \n",
       "\n",
       "                             offense      offense_description law_category  \\\n",
       "57953  OFF. AGNST PUB ORD SENSBLTY &  AGGRAVATED HARASSMENT 2  MISDEMEANOR   \n",
       "\n",
       "      occurence                 premise borough   latitude  longitude  year  \\\n",
       "57953  FRONT OF  RESIDENCE - APT. HOUSE  QUEENS  40.746473 -73.876261  2017   \n",
       "\n",
       "      Month    weekday holiday  hour             time_str                time  \\\n",
       "57953   Feb  Wednesday   False    12  2017-02-08 12:00:00 2017-02-08 12:00:00   \n",
       "\n",
       "       no_of_month  Day_of_month  no_of_weekday  \n",
       "57953            2             8              2  "
      ]
     },
     "execution_count": 21,
     "metadata": {},
     "output_type": "execute_result"
    }
   ],
   "source": [
    "df.sample(1)"
   ]
  },
  {
   "cell_type": "code",
   "execution_count": 22,
   "metadata": {},
   "outputs": [
    {
     "data": {
      "text/plain": [
       "array([2017, 2016, 2015, 2013, 2012, 2010, 2014, 2011, 2009, 2006, 2008,\n",
       "       2005, 2007, 2003, 1996, 1997, 1998, 1983, 2004, 2001, 1916, 1977,\n",
       "       2000, 2002, 1984, 1986])"
      ]
     },
     "execution_count": 22,
     "metadata": {},
     "output_type": "execute_result"
    }
   ],
   "source": [
    "# unique values in column year\n",
    "df.year.unique()"
   ]
  },
  {
   "cell_type": "code",
   "execution_count": 23,
   "metadata": {},
   "outputs": [
    {
     "name": "stdout",
     "output_type": "stream",
     "text": [
      "2006:  3\n",
      "2015:  261\n",
      "2016:  5568\n",
      "2017:  100361\n"
     ]
    }
   ],
   "source": [
    "print('2006: ',(len(df[df.year == 2006])))\n",
    "print('2015: ',(len(df[df.year == 2015])))\n",
    "print('2016: ',(len(df[df.year == 2016])))\n",
    "print('2017: ',(len(df[df.year == 2017])))"
   ]
  },
  {
   "cell_type": "code",
   "execution_count": 24,
   "metadata": {},
   "outputs": [
    {
     "data": {
      "text/plain": [
       "array([2017])"
      ]
     },
     "execution_count": 24,
     "metadata": {},
     "output_type": "execute_result"
    }
   ],
   "source": [
    "# drop lines before 2016\n",
    "\n",
    "df_2017=df.copy()\n",
    "df_2017= df_2017[df_2017.year > 2016]\n",
    "df_2017.year.unique()"
   ]
  },
  {
   "cell_type": "code",
   "execution_count": 25,
   "metadata": {},
   "outputs": [
    {
     "name": "stdout",
     "output_type": "stream",
     "text": [
      "min of from date 2017-01-01 00:00:00\n",
      "max of from date 2017-12-14 00:00:00\n",
      "min of to date 2016-02-27 00:00:00\n",
      "max of to date 2017-11-28 00:00:00\n"
     ]
    }
   ],
   "source": [
    "# checking date\n",
    "\n",
    "print('min of from date', df_2017.from_date.min())\n",
    "print('max of from date', df_2017.from_date.max())\n",
    "print('min of to date', df_2017.to_date.min())\n",
    "print('max of to date', df_2017.to_date.max())"
   ]
  },
  {
   "cell_type": "code",
   "execution_count": 26,
   "metadata": {},
   "outputs": [
    {
     "name": "stderr",
     "output_type": "stream",
     "text": [
      "/Users/bernadett/miniconda3/lib/python3.6/site-packages/ipykernel_launcher.py:3: DeprecationWarning:\n",
      "\n",
      "\n",
      ".ix is deprecated. Please use\n",
      ".loc for label based indexing or\n",
      ".iloc for positional indexing\n",
      "\n",
      "See the documentation here:\n",
      "http://pandas.pydata.org/pandas-docs/stable/indexing.html#deprecate_ix\n",
      "\n"
     ]
    },
    {
     "data": {
      "text/html": [
       "<div>\n",
       "<style>\n",
       "    .dataframe thead tr:only-child th {\n",
       "        text-align: right;\n",
       "    }\n",
       "\n",
       "    .dataframe thead th {\n",
       "        text-align: left;\n",
       "    }\n",
       "\n",
       "    .dataframe tbody tr th {\n",
       "        vertical-align: top;\n",
       "    }\n",
       "</style>\n",
       "<table border=\"1\" class=\"dataframe\">\n",
       "  <thead>\n",
       "    <tr style=\"text-align: right;\">\n",
       "      <th></th>\n",
       "      <th>from_date</th>\n",
       "      <th>from_time</th>\n",
       "      <th>to_date</th>\n",
       "      <th>to_time</th>\n",
       "      <th>offense</th>\n",
       "      <th>offense_description</th>\n",
       "      <th>law_category</th>\n",
       "      <th>occurence</th>\n",
       "      <th>premise</th>\n",
       "      <th>borough</th>\n",
       "      <th>latitude</th>\n",
       "      <th>longitude</th>\n",
       "      <th>year</th>\n",
       "      <th>Month</th>\n",
       "      <th>weekday</th>\n",
       "      <th>holiday</th>\n",
       "      <th>hour</th>\n",
       "      <th>time_str</th>\n",
       "      <th>time</th>\n",
       "      <th>no_of_month</th>\n",
       "      <th>Day_of_month</th>\n",
       "      <th>no_of_weekday</th>\n",
       "    </tr>\n",
       "  </thead>\n",
       "  <tbody>\n",
       "    <tr>\n",
       "      <th>96361</th>\n",
       "      <td>2017-12-14</td>\n",
       "      <td>23:30:00</td>\n",
       "      <td>2016-12-20</td>\n",
       "      <td>23:45:00</td>\n",
       "      <td>FELONY ASSAULT</td>\n",
       "      <td>ASSAULT 2,1,UNCLASSIFIED</td>\n",
       "      <td>FELONY</td>\n",
       "      <td>NaN</td>\n",
       "      <td>STREET</td>\n",
       "      <td>BROOKLYN</td>\n",
       "      <td>40.695916</td>\n",
       "      <td>-73.983218</td>\n",
       "      <td>2017</td>\n",
       "      <td>Dec</td>\n",
       "      <td>Thursday</td>\n",
       "      <td>NaN</td>\n",
       "      <td>23</td>\n",
       "      <td>2017-12-14 23:30:00</td>\n",
       "      <td>2017-12-14 23:30:00</td>\n",
       "      <td>12</td>\n",
       "      <td>14</td>\n",
       "      <td>3</td>\n",
       "    </tr>\n",
       "  </tbody>\n",
       "</table>\n",
       "</div>"
      ],
      "text/plain": [
       "       from_date from_time    to_date   to_time         offense  \\\n",
       "96361 2017-12-14  23:30:00 2016-12-20  23:45:00  FELONY ASSAULT   \n",
       "\n",
       "            offense_description law_category occurence premise   borough  \\\n",
       "96361  ASSAULT 2,1,UNCLASSIFIED       FELONY       NaN  STREET  BROOKLYN   \n",
       "\n",
       "        latitude  longitude  year Month   weekday holiday  hour  \\\n",
       "96361  40.695916 -73.983218  2017   Dec  Thursday     NaN    23   \n",
       "\n",
       "                  time_str                time  no_of_month  Day_of_month  \\\n",
       "96361  2017-12-14 23:30:00 2017-12-14 23:30:00           12            14   \n",
       "\n",
       "       no_of_weekday  \n",
       "96361              3  "
      ]
     },
     "metadata": {},
     "output_type": "display_data"
    },
    {
     "data": {
      "text/html": [
       "<div>\n",
       "<style>\n",
       "    .dataframe thead tr:only-child th {\n",
       "        text-align: right;\n",
       "    }\n",
       "\n",
       "    .dataframe thead th {\n",
       "        text-align: left;\n",
       "    }\n",
       "\n",
       "    .dataframe tbody tr th {\n",
       "        vertical-align: top;\n",
       "    }\n",
       "</style>\n",
       "<table border=\"1\" class=\"dataframe\">\n",
       "  <thead>\n",
       "    <tr style=\"text-align: right;\">\n",
       "      <th></th>\n",
       "      <th>from_date</th>\n",
       "      <th>from_time</th>\n",
       "      <th>to_date</th>\n",
       "      <th>to_time</th>\n",
       "      <th>offense</th>\n",
       "      <th>offense_description</th>\n",
       "      <th>law_category</th>\n",
       "      <th>occurence</th>\n",
       "      <th>premise</th>\n",
       "      <th>borough</th>\n",
       "      <th>latitude</th>\n",
       "      <th>longitude</th>\n",
       "      <th>year</th>\n",
       "      <th>Month</th>\n",
       "      <th>weekday</th>\n",
       "      <th>holiday</th>\n",
       "      <th>hour</th>\n",
       "      <th>time_str</th>\n",
       "      <th>time</th>\n",
       "      <th>no_of_month</th>\n",
       "      <th>Day_of_month</th>\n",
       "      <th>no_of_weekday</th>\n",
       "    </tr>\n",
       "  </thead>\n",
       "  <tbody>\n",
       "    <tr>\n",
       "      <th>73144</th>\n",
       "      <td>2017-01-27</td>\n",
       "      <td>22:00:00</td>\n",
       "      <td>2017-11-28</td>\n",
       "      <td>NaN</td>\n",
       "      <td>CRIMINAL MISCHIEF &amp; RELATED OF</td>\n",
       "      <td>MISCHIEF,CRIMINAL,    UNCL 2ND</td>\n",
       "      <td>FELONY</td>\n",
       "      <td>FRONT OF</td>\n",
       "      <td>RESIDENCE - APT. HOUSE</td>\n",
       "      <td>BROOKLYN</td>\n",
       "      <td>40.617969</td>\n",
       "      <td>-73.978966</td>\n",
       "      <td>2017</td>\n",
       "      <td>Jan</td>\n",
       "      <td>Friday</td>\n",
       "      <td>False</td>\n",
       "      <td>22</td>\n",
       "      <td>2017-01-27 22:00:00</td>\n",
       "      <td>2017-01-27 22:00:00</td>\n",
       "      <td>1</td>\n",
       "      <td>27</td>\n",
       "      <td>4</td>\n",
       "    </tr>\n",
       "  </tbody>\n",
       "</table>\n",
       "</div>"
      ],
      "text/plain": [
       "       from_date from_time    to_date to_time                         offense  \\\n",
       "73144 2017-01-27  22:00:00 2017-11-28     NaN  CRIMINAL MISCHIEF & RELATED OF   \n",
       "\n",
       "                  offense_description law_category occurence  \\\n",
       "73144  MISCHIEF,CRIMINAL,    UNCL 2ND       FELONY  FRONT OF   \n",
       "\n",
       "                      premise   borough   latitude  longitude  year Month  \\\n",
       "73144  RESIDENCE - APT. HOUSE  BROOKLYN  40.617969 -73.978966  2017   Jan   \n",
       "\n",
       "      weekday holiday  hour             time_str                time  \\\n",
       "73144  Friday   False    22  2017-01-27 22:00:00 2017-01-27 22:00:00   \n",
       "\n",
       "       no_of_month  Day_of_month  no_of_weekday  \n",
       "73144            1            27              4  "
      ]
     },
     "metadata": {},
     "output_type": "display_data"
    }
   ],
   "source": [
    "# drop lines after 2017-03-31 00:00:00\n",
    "\n",
    "display(df_2017.ix[df_2017['from_date'] > '2017-03-31 00:00:00'])\n",
    "display(df_2017.ix[df_2017['to_date'] > '2017-03-31 00:00:00'])"
   ]
  },
  {
   "cell_type": "code",
   "execution_count": 27,
   "metadata": {
    "collapsed": true,
    "scrolled": true
   },
   "outputs": [],
   "source": [
    "df_2017 = df_2017.drop(df_2017[df_2017.from_date > '2017-03-31 00:00:00'].index)\n",
    "df_2017 = df_2017.drop(df_2017[df_2017.to_date > '2017-03-31 00:00:00'].index)"
   ]
  },
  {
   "cell_type": "code",
   "execution_count": 28,
   "metadata": {},
   "outputs": [
    {
     "name": "stdout",
     "output_type": "stream",
     "text": [
      "2017-03-31 00:00:00\n",
      "2017-03-31 00:00:00\n"
     ]
    }
   ],
   "source": [
    "print(df_2017.from_date.max())\n",
    "print(df_2017.to_date.max())"
   ]
  },
  {
   "cell_type": "code",
   "execution_count": 29,
   "metadata": {},
   "outputs": [
    {
     "name": "stdout",
     "output_type": "stream",
     "text": [
      "min:  -365 days +00:00:00\n",
      "max:  89 days 00:00:00\n"
     ]
    }
   ],
   "source": [
    "# checking mistyping\n",
    "\n",
    "diff=df_2017['to_date'] - df_2017['from_date']\n",
    "print('min: ',diff.min())\n",
    "print('max: ',diff.max())"
   ]
  },
  {
   "cell_type": "code",
   "execution_count": 30,
   "metadata": {},
   "outputs": [
    {
     "data": {
      "text/html": [
       "<div>\n",
       "<style>\n",
       "    .dataframe thead tr:only-child th {\n",
       "        text-align: right;\n",
       "    }\n",
       "\n",
       "    .dataframe thead th {\n",
       "        text-align: left;\n",
       "    }\n",
       "\n",
       "    .dataframe tbody tr th {\n",
       "        vertical-align: top;\n",
       "    }\n",
       "</style>\n",
       "<table border=\"1\" class=\"dataframe\">\n",
       "  <thead>\n",
       "    <tr style=\"text-align: right;\">\n",
       "      <th></th>\n",
       "      <th>from_date</th>\n",
       "      <th>from_time</th>\n",
       "      <th>to_date</th>\n",
       "      <th>to_time</th>\n",
       "      <th>offense</th>\n",
       "      <th>offense_description</th>\n",
       "      <th>law_category</th>\n",
       "      <th>occurence</th>\n",
       "      <th>premise</th>\n",
       "      <th>borough</th>\n",
       "      <th>latitude</th>\n",
       "      <th>longitude</th>\n",
       "      <th>year</th>\n",
       "      <th>Month</th>\n",
       "      <th>weekday</th>\n",
       "      <th>holiday</th>\n",
       "      <th>hour</th>\n",
       "      <th>time_str</th>\n",
       "      <th>time</th>\n",
       "      <th>no_of_month</th>\n",
       "      <th>Day_of_month</th>\n",
       "      <th>no_of_weekday</th>\n",
       "    </tr>\n",
       "  </thead>\n",
       "  <tbody>\n",
       "    <tr>\n",
       "      <th>38213</th>\n",
       "      <td>2017-02-26</td>\n",
       "      <td>14:30:00</td>\n",
       "      <td>2016-02-27</td>\n",
       "      <td>NaN</td>\n",
       "      <td>CRIMINAL MISCHIEF &amp; RELATED OF</td>\n",
       "      <td>CRIMINAL MISCHIEF,UNCLASSIFIED 4</td>\n",
       "      <td>MISDEMEANOR</td>\n",
       "      <td>FRONT OF</td>\n",
       "      <td>STREET</td>\n",
       "      <td>BRONX</td>\n",
       "      <td>40.85394</td>\n",
       "      <td>-73.892439</td>\n",
       "      <td>2017</td>\n",
       "      <td>Feb</td>\n",
       "      <td>Sunday</td>\n",
       "      <td>False</td>\n",
       "      <td>14</td>\n",
       "      <td>2017-02-26 14:30:00</td>\n",
       "      <td>2017-02-26 14:30:00</td>\n",
       "      <td>2</td>\n",
       "      <td>26</td>\n",
       "      <td>6</td>\n",
       "    </tr>\n",
       "  </tbody>\n",
       "</table>\n",
       "</div>"
      ],
      "text/plain": [
       "       from_date from_time    to_date to_time                         offense  \\\n",
       "38213 2017-02-26  14:30:00 2016-02-27     NaN  CRIMINAL MISCHIEF & RELATED OF   \n",
       "\n",
       "                    offense_description law_category occurence premise  \\\n",
       "38213  CRIMINAL MISCHIEF,UNCLASSIFIED 4  MISDEMEANOR  FRONT OF  STREET   \n",
       "\n",
       "      borough  latitude  longitude  year Month weekday holiday  hour  \\\n",
       "38213   BRONX  40.85394 -73.892439  2017   Feb  Sunday   False    14   \n",
       "\n",
       "                  time_str                time  no_of_month  Day_of_month  \\\n",
       "38213  2017-02-26 14:30:00 2017-02-26 14:30:00            2            26   \n",
       "\n",
       "       no_of_weekday  \n",
       "38213              6  "
      ]
     },
     "metadata": {},
     "output_type": "display_data"
    }
   ],
   "source": [
    "display(df_2017.loc[diff == '-365 days +00:00:00'])"
   ]
  },
  {
   "cell_type": "code",
   "execution_count": 31,
   "metadata": {},
   "outputs": [
    {
     "data": {
      "text/html": [
       "<div>\n",
       "<style>\n",
       "    .dataframe thead tr:only-child th {\n",
       "        text-align: right;\n",
       "    }\n",
       "\n",
       "    .dataframe thead th {\n",
       "        text-align: left;\n",
       "    }\n",
       "\n",
       "    .dataframe tbody tr th {\n",
       "        vertical-align: top;\n",
       "    }\n",
       "</style>\n",
       "<table border=\"1\" class=\"dataframe\">\n",
       "  <thead>\n",
       "    <tr style=\"text-align: right;\">\n",
       "      <th></th>\n",
       "      <th>diff</th>\n",
       "      <th>days</th>\n",
       "    </tr>\n",
       "  </thead>\n",
       "  <tbody>\n",
       "    <tr>\n",
       "      <th>38213</th>\n",
       "      <td>-365 days</td>\n",
       "      <td>-365</td>\n",
       "    </tr>\n",
       "  </tbody>\n",
       "</table>\n",
       "</div>"
      ],
      "text/plain": [
       "           diff  days\n",
       "38213 -365 days  -365"
      ]
     },
     "execution_count": 31,
     "metadata": {},
     "output_type": "execute_result"
    }
   ],
   "source": [
    "# checking difference is negative (<0) as we can have data for year 2017\n",
    "\n",
    "def to_int(v):\n",
    "    try:\n",
    "        return int(str(v).split()[0])\n",
    "    except:\n",
    "        return 0\n",
    "\n",
    "df_diff = pd.DataFrame(diff, columns=['diff'])\n",
    "df_diff['days'] = df_diff['diff'].map(to_int)\n",
    "df_diff[df_diff.days < 0]"
   ]
  },
  {
   "cell_type": "code",
   "execution_count": 32,
   "metadata": {
    "collapsed": true
   },
   "outputs": [],
   "source": [
    "# drop line where the difference = - 365 days\n",
    "\n",
    "df_2017 = df_2017.drop(df_2017[diff == '-365 days +00:00:00'].index)"
   ]
  },
  {
   "cell_type": "code",
   "execution_count": 33,
   "metadata": {},
   "outputs": [
    {
     "name": "stdout",
     "output_type": "stream",
     "text": [
      "13\n"
     ]
    },
    {
     "data": {
      "text/html": [
       "<div>\n",
       "<style>\n",
       "    .dataframe thead tr:only-child th {\n",
       "        text-align: right;\n",
       "    }\n",
       "\n",
       "    .dataframe thead th {\n",
       "        text-align: left;\n",
       "    }\n",
       "\n",
       "    .dataframe tbody tr th {\n",
       "        vertical-align: top;\n",
       "    }\n",
       "</style>\n",
       "<table border=\"1\" class=\"dataframe\">\n",
       "  <thead>\n",
       "    <tr style=\"text-align: right;\">\n",
       "      <th></th>\n",
       "      <th>from_date</th>\n",
       "      <th>from_time</th>\n",
       "      <th>to_date</th>\n",
       "      <th>to_time</th>\n",
       "      <th>offense</th>\n",
       "      <th>offense_description</th>\n",
       "      <th>law_category</th>\n",
       "      <th>occurence</th>\n",
       "      <th>premise</th>\n",
       "      <th>borough</th>\n",
       "      <th>latitude</th>\n",
       "      <th>longitude</th>\n",
       "      <th>year</th>\n",
       "      <th>Month</th>\n",
       "      <th>weekday</th>\n",
       "      <th>holiday</th>\n",
       "      <th>hour</th>\n",
       "      <th>time_str</th>\n",
       "      <th>time</th>\n",
       "      <th>no_of_month</th>\n",
       "      <th>Day_of_month</th>\n",
       "      <th>no_of_weekday</th>\n",
       "    </tr>\n",
       "  </thead>\n",
       "  <tbody>\n",
       "    <tr>\n",
       "      <th>37605</th>\n",
       "      <td>2017-02-27</td>\n",
       "      <td>17:05:00</td>\n",
       "      <td>NaT</td>\n",
       "      <td>NaN</td>\n",
       "      <td>NaN</td>\n",
       "      <td>TAX LAW</td>\n",
       "      <td>FELONY</td>\n",
       "      <td>INSIDE</td>\n",
       "      <td>CANDY STORE</td>\n",
       "      <td>STATEN ISLAND</td>\n",
       "      <td>40.514921</td>\n",
       "      <td>-74.245439</td>\n",
       "      <td>2017</td>\n",
       "      <td>Feb</td>\n",
       "      <td>Monday</td>\n",
       "      <td>False</td>\n",
       "      <td>17</td>\n",
       "      <td>2017-02-27 17:05:00</td>\n",
       "      <td>2017-02-27 17:05:00</td>\n",
       "      <td>2</td>\n",
       "      <td>27</td>\n",
       "      <td>0</td>\n",
       "    </tr>\n",
       "    <tr>\n",
       "      <th>40702</th>\n",
       "      <td>2017-02-24</td>\n",
       "      <td>23:00:00</td>\n",
       "      <td>2017-02-24</td>\n",
       "      <td>23:15:00</td>\n",
       "      <td>NaN</td>\n",
       "      <td>TAX LAW</td>\n",
       "      <td>FELONY</td>\n",
       "      <td>INSIDE</td>\n",
       "      <td>GROCERY/BODEGA</td>\n",
       "      <td>BROOKLYN</td>\n",
       "      <td>40.696082</td>\n",
       "      <td>-73.943160</td>\n",
       "      <td>2017</td>\n",
       "      <td>Feb</td>\n",
       "      <td>Friday</td>\n",
       "      <td>False</td>\n",
       "      <td>23</td>\n",
       "      <td>2017-02-24 23:00:00</td>\n",
       "      <td>2017-02-24 23:00:00</td>\n",
       "      <td>2</td>\n",
       "      <td>24</td>\n",
       "      <td>4</td>\n",
       "    </tr>\n",
       "    <tr>\n",
       "      <th>42161</th>\n",
       "      <td>2017-02-23</td>\n",
       "      <td>18:09:00</td>\n",
       "      <td>2017-02-23</td>\n",
       "      <td>18:30:00</td>\n",
       "      <td>NaN</td>\n",
       "      <td>TAX LAW</td>\n",
       "      <td>FELONY</td>\n",
       "      <td>INSIDE</td>\n",
       "      <td>GROCERY/BODEGA</td>\n",
       "      <td>STATEN ISLAND</td>\n",
       "      <td>40.572953</td>\n",
       "      <td>-74.118360</td>\n",
       "      <td>2017</td>\n",
       "      <td>Feb</td>\n",
       "      <td>Thursday</td>\n",
       "      <td>False</td>\n",
       "      <td>18</td>\n",
       "      <td>2017-02-23 18:09:00</td>\n",
       "      <td>2017-02-23 18:09:00</td>\n",
       "      <td>2</td>\n",
       "      <td>23</td>\n",
       "      <td>3</td>\n",
       "    </tr>\n",
       "    <tr>\n",
       "      <th>42162</th>\n",
       "      <td>2017-02-23</td>\n",
       "      <td>18:09:00</td>\n",
       "      <td>2017-02-23</td>\n",
       "      <td>18:30:00</td>\n",
       "      <td>NaN</td>\n",
       "      <td>TAX LAW</td>\n",
       "      <td>FELONY</td>\n",
       "      <td>INSIDE</td>\n",
       "      <td>GROCERY/BODEGA</td>\n",
       "      <td>STATEN ISLAND</td>\n",
       "      <td>40.572953</td>\n",
       "      <td>-74.118360</td>\n",
       "      <td>2017</td>\n",
       "      <td>Feb</td>\n",
       "      <td>Thursday</td>\n",
       "      <td>False</td>\n",
       "      <td>18</td>\n",
       "      <td>2017-02-23 18:09:00</td>\n",
       "      <td>2017-02-23 18:09:00</td>\n",
       "      <td>2</td>\n",
       "      <td>23</td>\n",
       "      <td>3</td>\n",
       "    </tr>\n",
       "    <tr>\n",
       "      <th>44505</th>\n",
       "      <td>2017-02-21</td>\n",
       "      <td>19:37:00</td>\n",
       "      <td>2017-02-21</td>\n",
       "      <td>21:25:00</td>\n",
       "      <td>NaN</td>\n",
       "      <td>TAX LAW</td>\n",
       "      <td>FELONY</td>\n",
       "      <td>INSIDE</td>\n",
       "      <td>GROCERY/BODEGA</td>\n",
       "      <td>BROOKLYN</td>\n",
       "      <td>40.585640</td>\n",
       "      <td>-73.987609</td>\n",
       "      <td>2017</td>\n",
       "      <td>Feb</td>\n",
       "      <td>Tuesday</td>\n",
       "      <td>False</td>\n",
       "      <td>19</td>\n",
       "      <td>2017-02-21 19:37:00</td>\n",
       "      <td>2017-02-21 19:37:00</td>\n",
       "      <td>2</td>\n",
       "      <td>21</td>\n",
       "      <td>1</td>\n",
       "    </tr>\n",
       "    <tr>\n",
       "      <th>47775</th>\n",
       "      <td>2017-02-18</td>\n",
       "      <td>21:10:00</td>\n",
       "      <td>2017-02-18</td>\n",
       "      <td>22:00:00</td>\n",
       "      <td>NaN</td>\n",
       "      <td>TAX LAW</td>\n",
       "      <td>FELONY</td>\n",
       "      <td>INSIDE</td>\n",
       "      <td>GROCERY/BODEGA</td>\n",
       "      <td>BROOKLYN</td>\n",
       "      <td>40.697633</td>\n",
       "      <td>-73.929469</td>\n",
       "      <td>2017</td>\n",
       "      <td>Feb</td>\n",
       "      <td>Saturday</td>\n",
       "      <td>False</td>\n",
       "      <td>21</td>\n",
       "      <td>2017-02-18 21:10:00</td>\n",
       "      <td>2017-02-18 21:10:00</td>\n",
       "      <td>2</td>\n",
       "      <td>18</td>\n",
       "      <td>5</td>\n",
       "    </tr>\n",
       "    <tr>\n",
       "      <th>69313</th>\n",
       "      <td>2017-01-31</td>\n",
       "      <td>10:00:00</td>\n",
       "      <td>2017-01-31</td>\n",
       "      <td>10:30:00</td>\n",
       "      <td>NaN</td>\n",
       "      <td>TAX LAW</td>\n",
       "      <td>FELONY</td>\n",
       "      <td>INSIDE</td>\n",
       "      <td>GROCERY/BODEGA</td>\n",
       "      <td>BRONX</td>\n",
       "      <td>40.834272</td>\n",
       "      <td>-73.917110</td>\n",
       "      <td>2017</td>\n",
       "      <td>Jan</td>\n",
       "      <td>Tuesday</td>\n",
       "      <td>False</td>\n",
       "      <td>10</td>\n",
       "      <td>2017-01-31 10:00:00</td>\n",
       "      <td>2017-01-31 10:00:00</td>\n",
       "      <td>1</td>\n",
       "      <td>31</td>\n",
       "      <td>1</td>\n",
       "    </tr>\n",
       "    <tr>\n",
       "      <th>73520</th>\n",
       "      <td>2017-01-27</td>\n",
       "      <td>20:20:00</td>\n",
       "      <td>2017-01-27</td>\n",
       "      <td>20:26:00</td>\n",
       "      <td>NaN</td>\n",
       "      <td>TAX LAW</td>\n",
       "      <td>FELONY</td>\n",
       "      <td>INSIDE</td>\n",
       "      <td>RESIDENCE - PUBLIC HOUSING</td>\n",
       "      <td>BROOKLYN</td>\n",
       "      <td>40.718454</td>\n",
       "      <td>-73.937106</td>\n",
       "      <td>2017</td>\n",
       "      <td>Jan</td>\n",
       "      <td>Friday</td>\n",
       "      <td>False</td>\n",
       "      <td>20</td>\n",
       "      <td>2017-01-27 20:20:00</td>\n",
       "      <td>2017-01-27 20:20:00</td>\n",
       "      <td>1</td>\n",
       "      <td>27</td>\n",
       "      <td>4</td>\n",
       "    </tr>\n",
       "    <tr>\n",
       "      <th>77663</th>\n",
       "      <td>2017-01-24</td>\n",
       "      <td>19:30:00</td>\n",
       "      <td>2017-01-24</td>\n",
       "      <td>20:15:00</td>\n",
       "      <td>NaN</td>\n",
       "      <td>TAX LAW</td>\n",
       "      <td>FELONY</td>\n",
       "      <td>INSIDE</td>\n",
       "      <td>SMALL MERCHANT</td>\n",
       "      <td>STATEN ISLAND</td>\n",
       "      <td>40.524912</td>\n",
       "      <td>-74.200635</td>\n",
       "      <td>2017</td>\n",
       "      <td>Jan</td>\n",
       "      <td>Tuesday</td>\n",
       "      <td>False</td>\n",
       "      <td>19</td>\n",
       "      <td>2017-01-24 19:30:00</td>\n",
       "      <td>2017-01-24 19:30:00</td>\n",
       "      <td>1</td>\n",
       "      <td>24</td>\n",
       "      <td>1</td>\n",
       "    </tr>\n",
       "    <tr>\n",
       "      <th>82544</th>\n",
       "      <td>2017-01-20</td>\n",
       "      <td>20:55:00</td>\n",
       "      <td>NaT</td>\n",
       "      <td>NaN</td>\n",
       "      <td>NaN</td>\n",
       "      <td>TAX LAW</td>\n",
       "      <td>FELONY</td>\n",
       "      <td>INSIDE</td>\n",
       "      <td>FAST FOOD</td>\n",
       "      <td>BROOKLYN</td>\n",
       "      <td>40.658549</td>\n",
       "      <td>-73.981998</td>\n",
       "      <td>2017</td>\n",
       "      <td>Jan</td>\n",
       "      <td>Friday</td>\n",
       "      <td>False</td>\n",
       "      <td>20</td>\n",
       "      <td>2017-01-20 20:55:00</td>\n",
       "      <td>2017-01-20 20:55:00</td>\n",
       "      <td>1</td>\n",
       "      <td>20</td>\n",
       "      <td>4</td>\n",
       "    </tr>\n",
       "    <tr>\n",
       "      <th>86079</th>\n",
       "      <td>2017-01-17</td>\n",
       "      <td>23:30:00</td>\n",
       "      <td>2017-01-17</td>\n",
       "      <td>23:45:00</td>\n",
       "      <td>NaN</td>\n",
       "      <td>TAX LAW</td>\n",
       "      <td>FELONY</td>\n",
       "      <td>INSIDE</td>\n",
       "      <td>GROCERY/BODEGA</td>\n",
       "      <td>BROOKLYN</td>\n",
       "      <td>40.654336</td>\n",
       "      <td>-73.886887</td>\n",
       "      <td>2017</td>\n",
       "      <td>Jan</td>\n",
       "      <td>Tuesday</td>\n",
       "      <td>False</td>\n",
       "      <td>23</td>\n",
       "      <td>2017-01-17 23:30:00</td>\n",
       "      <td>2017-01-17 23:30:00</td>\n",
       "      <td>1</td>\n",
       "      <td>17</td>\n",
       "      <td>1</td>\n",
       "    </tr>\n",
       "    <tr>\n",
       "      <th>86928</th>\n",
       "      <td>2017-01-17</td>\n",
       "      <td>15:25:00</td>\n",
       "      <td>2017-01-17</td>\n",
       "      <td>15:50:00</td>\n",
       "      <td>NaN</td>\n",
       "      <td>TAX LAW</td>\n",
       "      <td>FELONY</td>\n",
       "      <td>INSIDE</td>\n",
       "      <td>COMMERCIAL BUILDING</td>\n",
       "      <td>STATEN ISLAND</td>\n",
       "      <td>40.542080</td>\n",
       "      <td>-74.177448</td>\n",
       "      <td>2017</td>\n",
       "      <td>Jan</td>\n",
       "      <td>Tuesday</td>\n",
       "      <td>False</td>\n",
       "      <td>15</td>\n",
       "      <td>2017-01-17 15:25:00</td>\n",
       "      <td>2017-01-17 15:25:00</td>\n",
       "      <td>1</td>\n",
       "      <td>17</td>\n",
       "      <td>1</td>\n",
       "    </tr>\n",
       "    <tr>\n",
       "      <th>90607</th>\n",
       "      <td>2017-01-14</td>\n",
       "      <td>04:00:00</td>\n",
       "      <td>2017-01-14</td>\n",
       "      <td>04:08:00</td>\n",
       "      <td>NaN</td>\n",
       "      <td>TAX LAW</td>\n",
       "      <td>FELONY</td>\n",
       "      <td>NaN</td>\n",
       "      <td>STREET</td>\n",
       "      <td>BROOKLYN</td>\n",
       "      <td>40.681159</td>\n",
       "      <td>-74.004570</td>\n",
       "      <td>2017</td>\n",
       "      <td>Jan</td>\n",
       "      <td>Saturday</td>\n",
       "      <td>False</td>\n",
       "      <td>4</td>\n",
       "      <td>2017-01-14 04:00:00</td>\n",
       "      <td>2017-01-14 04:00:00</td>\n",
       "      <td>1</td>\n",
       "      <td>14</td>\n",
       "      <td>5</td>\n",
       "    </tr>\n",
       "  </tbody>\n",
       "</table>\n",
       "</div>"
      ],
      "text/plain": [
       "       from_date from_time    to_date   to_time offense offense_description  \\\n",
       "37605 2017-02-27  17:05:00        NaT       NaN     NaN             TAX LAW   \n",
       "40702 2017-02-24  23:00:00 2017-02-24  23:15:00     NaN             TAX LAW   \n",
       "42161 2017-02-23  18:09:00 2017-02-23  18:30:00     NaN             TAX LAW   \n",
       "42162 2017-02-23  18:09:00 2017-02-23  18:30:00     NaN             TAX LAW   \n",
       "44505 2017-02-21  19:37:00 2017-02-21  21:25:00     NaN             TAX LAW   \n",
       "47775 2017-02-18  21:10:00 2017-02-18  22:00:00     NaN             TAX LAW   \n",
       "69313 2017-01-31  10:00:00 2017-01-31  10:30:00     NaN             TAX LAW   \n",
       "73520 2017-01-27  20:20:00 2017-01-27  20:26:00     NaN             TAX LAW   \n",
       "77663 2017-01-24  19:30:00 2017-01-24  20:15:00     NaN             TAX LAW   \n",
       "82544 2017-01-20  20:55:00        NaT       NaN     NaN             TAX LAW   \n",
       "86079 2017-01-17  23:30:00 2017-01-17  23:45:00     NaN             TAX LAW   \n",
       "86928 2017-01-17  15:25:00 2017-01-17  15:50:00     NaN             TAX LAW   \n",
       "90607 2017-01-14  04:00:00 2017-01-14  04:08:00     NaN             TAX LAW   \n",
       "\n",
       "      law_category occurence                     premise        borough  \\\n",
       "37605       FELONY    INSIDE                 CANDY STORE  STATEN ISLAND   \n",
       "40702       FELONY    INSIDE              GROCERY/BODEGA       BROOKLYN   \n",
       "42161       FELONY    INSIDE              GROCERY/BODEGA  STATEN ISLAND   \n",
       "42162       FELONY    INSIDE              GROCERY/BODEGA  STATEN ISLAND   \n",
       "44505       FELONY    INSIDE              GROCERY/BODEGA       BROOKLYN   \n",
       "47775       FELONY    INSIDE              GROCERY/BODEGA       BROOKLYN   \n",
       "69313       FELONY    INSIDE              GROCERY/BODEGA          BRONX   \n",
       "73520       FELONY    INSIDE  RESIDENCE - PUBLIC HOUSING       BROOKLYN   \n",
       "77663       FELONY    INSIDE              SMALL MERCHANT  STATEN ISLAND   \n",
       "82544       FELONY    INSIDE                   FAST FOOD       BROOKLYN   \n",
       "86079       FELONY    INSIDE              GROCERY/BODEGA       BROOKLYN   \n",
       "86928       FELONY    INSIDE         COMMERCIAL BUILDING  STATEN ISLAND   \n",
       "90607       FELONY       NaN                      STREET       BROOKLYN   \n",
       "\n",
       "        latitude  longitude  year Month   weekday holiday  hour  \\\n",
       "37605  40.514921 -74.245439  2017   Feb    Monday   False    17   \n",
       "40702  40.696082 -73.943160  2017   Feb    Friday   False    23   \n",
       "42161  40.572953 -74.118360  2017   Feb  Thursday   False    18   \n",
       "42162  40.572953 -74.118360  2017   Feb  Thursday   False    18   \n",
       "44505  40.585640 -73.987609  2017   Feb   Tuesday   False    19   \n",
       "47775  40.697633 -73.929469  2017   Feb  Saturday   False    21   \n",
       "69313  40.834272 -73.917110  2017   Jan   Tuesday   False    10   \n",
       "73520  40.718454 -73.937106  2017   Jan    Friday   False    20   \n",
       "77663  40.524912 -74.200635  2017   Jan   Tuesday   False    19   \n",
       "82544  40.658549 -73.981998  2017   Jan    Friday   False    20   \n",
       "86079  40.654336 -73.886887  2017   Jan   Tuesday   False    23   \n",
       "86928  40.542080 -74.177448  2017   Jan   Tuesday   False    15   \n",
       "90607  40.681159 -74.004570  2017   Jan  Saturday   False     4   \n",
       "\n",
       "                  time_str                time  no_of_month  Day_of_month  \\\n",
       "37605  2017-02-27 17:05:00 2017-02-27 17:05:00            2            27   \n",
       "40702  2017-02-24 23:00:00 2017-02-24 23:00:00            2            24   \n",
       "42161  2017-02-23 18:09:00 2017-02-23 18:09:00            2            23   \n",
       "42162  2017-02-23 18:09:00 2017-02-23 18:09:00            2            23   \n",
       "44505  2017-02-21 19:37:00 2017-02-21 19:37:00            2            21   \n",
       "47775  2017-02-18 21:10:00 2017-02-18 21:10:00            2            18   \n",
       "69313  2017-01-31 10:00:00 2017-01-31 10:00:00            1            31   \n",
       "73520  2017-01-27 20:20:00 2017-01-27 20:20:00            1            27   \n",
       "77663  2017-01-24 19:30:00 2017-01-24 19:30:00            1            24   \n",
       "82544  2017-01-20 20:55:00 2017-01-20 20:55:00            1            20   \n",
       "86079  2017-01-17 23:30:00 2017-01-17 23:30:00            1            17   \n",
       "86928  2017-01-17 15:25:00 2017-01-17 15:25:00            1            17   \n",
       "90607  2017-01-14 04:00:00 2017-01-14 04:00:00            1            14   \n",
       "\n",
       "       no_of_weekday  \n",
       "37605              0  \n",
       "40702              4  \n",
       "42161              3  \n",
       "42162              3  \n",
       "44505              1  \n",
       "47775              5  \n",
       "69313              1  \n",
       "73520              4  \n",
       "77663              1  \n",
       "82544              4  \n",
       "86079              1  \n",
       "86928              1  \n",
       "90607              5  "
      ]
     },
     "metadata": {},
     "output_type": "display_data"
    }
   ],
   "source": [
    "# Identifying missing values in offense coloumn\n",
    "\n",
    "print(df_2017['offense'].isnull().sum())\n",
    "display(df_2017[df_2017['offense'].isnull()])"
   ]
  },
  {
   "cell_type": "code",
   "execution_count": 34,
   "metadata": {},
   "outputs": [
    {
     "data": {
      "text/plain": [
       "(100358, 22)"
      ]
     },
     "execution_count": 34,
     "metadata": {},
     "output_type": "execute_result"
    }
   ],
   "source": [
    "df_2017.shape"
   ]
  },
  {
   "cell_type": "code",
   "execution_count": 35,
   "metadata": {},
   "outputs": [
    {
     "data": {
      "text/plain": [
       "array(['OTHER STATE LAWS (NON PENAL LA', nan], dtype=object)"
      ]
     },
     "execution_count": 35,
     "metadata": {},
     "output_type": "execute_result"
    }
   ],
   "source": [
    "# show unique values of offense if the offense_description='TAX LAW'\n",
    "df_2017[df_2017.offense_description=='TAX LAW'].offense.unique()"
   ]
  },
  {
   "cell_type": "code",
   "execution_count": 36,
   "metadata": {},
   "outputs": [
    {
     "data": {
      "text/plain": [
       "0"
      ]
     },
     "execution_count": 36,
     "metadata": {},
     "output_type": "execute_result"
    }
   ],
   "source": [
    "# drop missing values offense column\n",
    "\n",
    "df_2017 = df_2017[(pd.notnull(df_2017['offense']))]\n",
    "df_2017['offense'].isnull().sum()"
   ]
  },
  {
   "cell_type": "code",
   "execution_count": 37,
   "metadata": {},
   "outputs": [
    {
     "data": {
      "text/plain": [
       "(100345, 22)"
      ]
     },
     "execution_count": 37,
     "metadata": {},
     "output_type": "execute_result"
    }
   ],
   "source": [
    "df_2017.shape"
   ]
  },
  {
   "cell_type": "code",
   "execution_count": 38,
   "metadata": {},
   "outputs": [
    {
     "data": {
      "text/plain": [
       "array([0, 1])"
      ]
     },
     "execution_count": 38,
     "metadata": {},
     "output_type": "execute_result"
    }
   ],
   "source": [
    "# replace True False with 1 and 0 in 'holiday' coloumn\n",
    "\n",
    "df_2017.holiday = df_2017.holiday.astype(int)\n",
    "df_2017.holiday.unique()"
   ]
  },
  {
   "cell_type": "code",
   "execution_count": 39,
   "metadata": {},
   "outputs": [
    {
     "name": "stdout",
     "output_type": "stream",
     "text": [
      "no. of offense:  55\n",
      "no. of law category:  3\n",
      "no. of borough:  5\n",
      "no. of year:  1\n"
     ]
    }
   ],
   "source": [
    "# checking no. of offense type, law category, borough, year\n",
    "\n",
    "print('no. of offense: ',len(pd.unique(df_2017.offense)))\n",
    "print('no. of law category: ',len(pd.unique(df_2017.law_category)))\n",
    "print('no. of borough: ',len(pd.unique(df_2017.borough)))\n",
    "print('no. of year: ',len(pd.unique(df_2017.year)))"
   ]
  },
  {
   "cell_type": "markdown",
   "metadata": {
    "collapsed": true
   },
   "source": [
    "## Historical dataset"
   ]
  },
  {
   "cell_type": "markdown",
   "metadata": {
    "collapsed": true
   },
   "source": [
    "## Dataset"
   ]
  },
  {
   "cell_type": "code",
   "execution_count": 40,
   "metadata": {},
   "outputs": [
    {
     "data": {
      "text/html": [
       "<div>\n",
       "<style>\n",
       "    .dataframe thead tr:only-child th {\n",
       "        text-align: right;\n",
       "    }\n",
       "\n",
       "    .dataframe thead th {\n",
       "        text-align: left;\n",
       "    }\n",
       "\n",
       "    .dataframe tbody tr th {\n",
       "        vertical-align: top;\n",
       "    }\n",
       "</style>\n",
       "<table border=\"1\" class=\"dataframe\">\n",
       "  <thead>\n",
       "    <tr style=\"text-align: right;\">\n",
       "      <th></th>\n",
       "      <th>CMPLNT_NUM</th>\n",
       "      <th>CMPLNT_FR_DT</th>\n",
       "      <th>CMPLNT_FR_TM</th>\n",
       "      <th>CMPLNT_TO_DT</th>\n",
       "      <th>CMPLNT_TO_TM</th>\n",
       "      <th>RPT_DT</th>\n",
       "      <th>KY_CD</th>\n",
       "      <th>OFNS_DESC</th>\n",
       "      <th>PD_CD</th>\n",
       "      <th>PD_DESC</th>\n",
       "      <th>CRM_ATPT_CPTD_CD</th>\n",
       "      <th>LAW_CAT_CD</th>\n",
       "      <th>JURIS_DESC</th>\n",
       "      <th>BORO_NM</th>\n",
       "      <th>ADDR_PCT_CD</th>\n",
       "      <th>LOC_OF_OCCUR_DESC</th>\n",
       "      <th>PREM_TYP_DESC</th>\n",
       "      <th>PARKS_NM</th>\n",
       "      <th>HADEVELOPT</th>\n",
       "      <th>X_COORD_CD</th>\n",
       "      <th>Y_COORD_CD</th>\n",
       "      <th>Latitude</th>\n",
       "      <th>Longitude</th>\n",
       "      <th>Lat_Lon</th>\n",
       "    </tr>\n",
       "  </thead>\n",
       "  <tbody>\n",
       "    <tr>\n",
       "      <th>0</th>\n",
       "      <td>889128095</td>\n",
       "      <td>08/27/2014</td>\n",
       "      <td>08:05:00</td>\n",
       "      <td>08/27/2014</td>\n",
       "      <td>15:00:00</td>\n",
       "      <td>08/27/2014</td>\n",
       "      <td>109</td>\n",
       "      <td>GRAND LARCENY</td>\n",
       "      <td>438.0</td>\n",
       "      <td>LARCENY,GRAND FROM BUILDING (NON-RESIDENCE) UN...</td>\n",
       "      <td>COMPLETED</td>\n",
       "      <td>FELONY</td>\n",
       "      <td>N.Y. POLICE DEPT</td>\n",
       "      <td>MANHATTAN</td>\n",
       "      <td>5.0</td>\n",
       "      <td>INSIDE</td>\n",
       "      <td>PRIVATE/PAROCHIAL SCHOOL</td>\n",
       "      <td>NaN</td>\n",
       "      <td>NaN</td>\n",
       "      <td>984,179</td>\n",
       "      <td>202,071</td>\n",
       "      <td>40.721323</td>\n",
       "      <td>-74.000258</td>\n",
       "      <td>(40.721323154, -74.000257587)</td>\n",
       "    </tr>\n",
       "  </tbody>\n",
       "</table>\n",
       "</div>"
      ],
      "text/plain": [
       "   CMPLNT_NUM CMPLNT_FR_DT CMPLNT_FR_TM CMPLNT_TO_DT CMPLNT_TO_TM      RPT_DT  \\\n",
       "0   889128095   08/27/2014     08:05:00   08/27/2014     15:00:00  08/27/2014   \n",
       "\n",
       "   KY_CD      OFNS_DESC  PD_CD  \\\n",
       "0    109  GRAND LARCENY  438.0   \n",
       "\n",
       "                                             PD_DESC CRM_ATPT_CPTD_CD  \\\n",
       "0  LARCENY,GRAND FROM BUILDING (NON-RESIDENCE) UN...        COMPLETED   \n",
       "\n",
       "  LAW_CAT_CD        JURIS_DESC    BORO_NM  ADDR_PCT_CD LOC_OF_OCCUR_DESC  \\\n",
       "0     FELONY  N.Y. POLICE DEPT  MANHATTAN          5.0            INSIDE   \n",
       "\n",
       "              PREM_TYP_DESC PARKS_NM HADEVELOPT X_COORD_CD Y_COORD_CD  \\\n",
       "0  PRIVATE/PAROCHIAL SCHOOL      NaN        NaN    984,179    202,071   \n",
       "\n",
       "    Latitude  Longitude                        Lat_Lon  \n",
       "0  40.721323 -74.000258  (40.721323154, -74.000257587)  "
      ]
     },
     "execution_count": 40,
     "metadata": {},
     "output_type": "execute_result"
    }
   ],
   "source": [
    "# Retrieving Data\n",
    "\n",
    "df_his=pd.read_csv('NYPD_Complaint_Data_Historic_sample.csv', header=None)\n",
    "df_his.columns = ['CMPLNT_NUM','CMPLNT_FR_DT','CMPLNT_FR_TM','CMPLNT_TO_DT','CMPLNT_TO_TM','RPT_DT','KY_CD','OFNS_DESC','PD_CD','PD_DESC','CRM_ATPT_CPTD_CD','LAW_CAT_CD','JURIS_DESC','BORO_NM','ADDR_PCT_CD','LOC_OF_OCCUR_DESC','PREM_TYP_DESC','PARKS_NM','HADEVELOPT','X_COORD_CD','Y_COORD_CD','Latitude','Longitude','Lat_Lon']\n",
    "df_his.head(1)"
   ]
  },
  {
   "cell_type": "code",
   "execution_count": 41,
   "metadata": {
    "scrolled": true
   },
   "outputs": [
    {
     "data": {
      "text/html": [
       "<div>\n",
       "<style>\n",
       "    .dataframe thead tr:only-child th {\n",
       "        text-align: right;\n",
       "    }\n",
       "\n",
       "    .dataframe thead th {\n",
       "        text-align: left;\n",
       "    }\n",
       "\n",
       "    .dataframe tbody tr th {\n",
       "        vertical-align: top;\n",
       "    }\n",
       "</style>\n",
       "<table border=\"1\" class=\"dataframe\">\n",
       "  <thead>\n",
       "    <tr style=\"text-align: right;\">\n",
       "      <th></th>\n",
       "      <th>from_date</th>\n",
       "      <th>from_time</th>\n",
       "      <th>to_date</th>\n",
       "      <th>to_time</th>\n",
       "      <th>offense</th>\n",
       "      <th>offense_description</th>\n",
       "      <th>law_category</th>\n",
       "      <th>occurence</th>\n",
       "      <th>premise</th>\n",
       "      <th>borough</th>\n",
       "      <th>latitude</th>\n",
       "      <th>longitude</th>\n",
       "    </tr>\n",
       "  </thead>\n",
       "  <tbody>\n",
       "    <tr>\n",
       "      <th>0</th>\n",
       "      <td>08/27/2014</td>\n",
       "      <td>08:05:00</td>\n",
       "      <td>08/27/2014</td>\n",
       "      <td>15:00:00</td>\n",
       "      <td>GRAND LARCENY</td>\n",
       "      <td>LARCENY,GRAND FROM BUILDING (NON-RESIDENCE) UN...</td>\n",
       "      <td>FELONY</td>\n",
       "      <td>INSIDE</td>\n",
       "      <td>PRIVATE/PAROCHIAL SCHOOL</td>\n",
       "      <td>MANHATTAN</td>\n",
       "      <td>40.721323</td>\n",
       "      <td>-74.000258</td>\n",
       "    </tr>\n",
       "  </tbody>\n",
       "</table>\n",
       "</div>"
      ],
      "text/plain": [
       "    from_date from_time     to_date   to_time        offense  \\\n",
       "0  08/27/2014  08:05:00  08/27/2014  15:00:00  GRAND LARCENY   \n",
       "\n",
       "                                 offense_description law_category occurence  \\\n",
       "0  LARCENY,GRAND FROM BUILDING (NON-RESIDENCE) UN...       FELONY    INSIDE   \n",
       "\n",
       "                    premise    borough   latitude  longitude  \n",
       "0  PRIVATE/PAROCHIAL SCHOOL  MANHATTAN  40.721323 -74.000258  "
      ]
     },
     "execution_count": 41,
     "metadata": {},
     "output_type": "execute_result"
    }
   ],
   "source": [
    "# rename the columns\n",
    "\n",
    "from collections import OrderedDict\n",
    "\n",
    "columns = OrderedDict()\n",
    "columns['CMPLNT_FR_DT'] = \"from_date\" \n",
    "columns['CMPLNT_FR_TM'] = \"from_time\" \n",
    "columns['CMPLNT_TO_DT'] = \"to_date\" \n",
    "columns['CMPLNT_TO_TM'] = \"to_time\" \n",
    "columns['OFNS_DESC'] = \"offense\" \n",
    "columns['PD_DESC'] = \"offense_description\" \n",
    "columns['LAW_CAT_CD'] = \"law_category\" \n",
    "columns['LOC_OF_OCCUR_DESC'] = \"occurence\" \n",
    "columns['PREM_TYP_DESC'] = \"premise\" \n",
    "columns['BORO_NM'] = \"borough\" \n",
    "columns['Latitude'] = \"latitude\" \n",
    "columns['Longitude'] = \"longitude\"\n",
    "\n",
    "df_his = df_his[list(columns.keys())]\n",
    "df_his.columns = columns.values()\n",
    "\n",
    "df_his.dropna(subset=['latitude','longitude'], inplace=True)\n",
    "\n",
    "df_his.head(1)"
   ]
  },
  {
   "cell_type": "markdown",
   "metadata": {},
   "source": [
    "## Data cleaning"
   ]
  },
  {
   "cell_type": "code",
   "execution_count": 42,
   "metadata": {},
   "outputs": [
    {
     "data": {
      "text/plain": [
       "(538319, 12)"
      ]
     },
     "execution_count": 42,
     "metadata": {},
     "output_type": "execute_result"
    }
   ],
   "source": [
    "# no. of the rows and columns\n",
    "\n",
    "df_his.shape"
   ]
  },
  {
   "cell_type": "code",
   "execution_count": 43,
   "metadata": {},
   "outputs": [
    {
     "name": "stdout",
     "output_type": "stream",
     "text": [
      "from_date                  73\n",
      "from_time                   4\n",
      "to_date                141300\n",
      "to_time                140921\n",
      "offense                  1757\n",
      "offense_description       483\n",
      "law_category                0\n",
      "occurence              114376\n",
      "premise                  3409\n",
      "borough                     1\n",
      "latitude                    0\n",
      "longitude                   0\n",
      "dtype: int64\n"
     ]
    }
   ],
   "source": [
    "# checking missing values\n",
    "\n",
    "print(df_his.isnull().sum())"
   ]
  },
  {
   "cell_type": "code",
   "execution_count": 44,
   "metadata": {
    "collapsed": true
   },
   "outputs": [],
   "source": [
    "# drop missing from_date and from_time rows\n",
    "\n",
    "df_his = df_his[(pd.notnull(df_his['from_date'])) & (pd.notnull(df_his['from_time']))]"
   ]
  },
  {
   "cell_type": "code",
   "execution_count": 45,
   "metadata": {},
   "outputs": [
    {
     "name": "stdout",
     "output_type": "stream",
     "text": [
      "from_date                   0\n",
      "from_time                   0\n",
      "to_date                141290\n",
      "to_time                140911\n",
      "offense                  1757\n",
      "offense_description       483\n",
      "law_category                0\n",
      "occurence              114359\n",
      "premise                  3409\n",
      "borough                     1\n",
      "latitude                    0\n",
      "longitude                   0\n",
      "dtype: int64\n"
     ]
    }
   ],
   "source": [
    "print(df_his.isnull().sum())"
   ]
  },
  {
   "cell_type": "code",
   "execution_count": 46,
   "metadata": {
    "collapsed": true
   },
   "outputs": [],
   "source": [
    "# correct incorrect date\n",
    "\n",
    "df_his.loc[df_his['from_date'].str.contains('1015'), 'from_date'] = df_his['from_date'].str.replace('1015', '2015')"
   ]
  },
  {
   "cell_type": "code",
   "execution_count": 47,
   "metadata": {
    "collapsed": true
   },
   "outputs": [],
   "source": [
    "# convert to datetime\n",
    "\n",
    "df_his['from_date']=pd.to_datetime(df_his['from_date'])\n",
    "df_his['to_date']=pd.to_datetime(df_his['to_date'])"
   ]
  },
  {
   "cell_type": "code",
   "execution_count": 48,
   "metadata": {},
   "outputs": [
    {
     "data": {
      "text/plain": [
       "from_date              datetime64[ns]\n",
       "from_time                      object\n",
       "to_date                datetime64[ns]\n",
       "to_time                        object\n",
       "offense                        object\n",
       "offense_description            object\n",
       "law_category                   object\n",
       "occurence                      object\n",
       "premise                        object\n",
       "borough                        object\n",
       "latitude                      float64\n",
       "longitude                     float64\n",
       "dtype: object"
      ]
     },
     "execution_count": 48,
     "metadata": {},
     "output_type": "execute_result"
    }
   ],
   "source": [
    "df_his.dtypes"
   ]
  },
  {
   "cell_type": "code",
   "execution_count": 49,
   "metadata": {
    "collapsed": true
   },
   "outputs": [],
   "source": [
    "# add new coloums\n",
    "\n",
    "# year\n",
    "\n",
    "df_his['year'] = pd.DatetimeIndex(df_his['from_date']).year\n",
    "\n",
    "\n",
    "# Month\n",
    "\n",
    "df_his['Month'] = df_his['from_date'].dt.month\n",
    "df_his['Month'] = df_his['Month'].apply(lambda x: calendar.month_abbr[x])\n",
    "\n",
    "# Weekday\n",
    "\n",
    "df_his['weekday'] = df_his['from_date'].dt.weekday_name\n"
   ]
  },
  {
   "cell_type": "code",
   "execution_count": 50,
   "metadata": {},
   "outputs": [
    {
     "data": {
      "text/plain": [
       "array([2014, 2011, 2010, 2007, 2016, 2015, 2012, 2013, 2006, 2008, 2009,\n",
       "       2005, 1986, 2000, 2004, 2003, 1997, 1996, 2001, 2002, 1999, 1995,\n",
       "       1991, 1959, 1908, 1988, 1994, 1968, 1979, 1998, 1992, 1914, 1966,\n",
       "       1965, 1985, 1913, 1962, 1960, 1976, 1984, 1993, 1990, 1987, 1974,\n",
       "       1980, 1970, 1941, 1989, 1915, 1967, 1912])"
      ]
     },
     "execution_count": 50,
     "metadata": {},
     "output_type": "execute_result"
    }
   ],
   "source": [
    "# unique values in column year\n",
    "\n",
    "df_his.year.unique()"
   ]
  },
  {
   "cell_type": "code",
   "execution_count": 51,
   "metadata": {},
   "outputs": [
    {
     "name": "stdout",
     "output_type": "stream",
     "text": [
      "Y 2005: 976\n",
      "Y 2006: 51580\n"
     ]
    }
   ],
   "source": [
    "print('Y 2005:',len(df_his[df_his.year==2005]))\n",
    "print('Y 2006:',len(df_his[df_his.year==2006]))"
   ]
  },
  {
   "cell_type": "code",
   "execution_count": 52,
   "metadata": {},
   "outputs": [
    {
     "data": {
      "text/plain": [
       "array([2014, 2011, 2010, 2007, 2016, 2015, 2012, 2013, 2006, 2008, 2009])"
      ]
     },
     "execution_count": 52,
     "metadata": {},
     "output_type": "execute_result"
    }
   ],
   "source": [
    "# keep rows where the year > 2005\n",
    "\n",
    "df_his= df_his[df_his.year > 2005]\n",
    "df_his.year.unique()"
   ]
  },
  {
   "cell_type": "code",
   "execution_count": 53,
   "metadata": {
    "collapsed": true
   },
   "outputs": [],
   "source": [
    "# Holiday\n",
    "df_his=pd.merge(df_his, dff, how='left', on='from_date')"
   ]
  },
  {
   "cell_type": "code",
   "execution_count": 54,
   "metadata": {},
   "outputs": [
    {
     "data": {
      "text/plain": [
       "array([0, 1])"
      ]
     },
     "execution_count": 54,
     "metadata": {},
     "output_type": "execute_result"
    }
   ],
   "source": [
    "# replace True False with 1 and 0 in 'holiday' coloumn\n",
    "\n",
    "df_his.holiday = df_his.holiday.astype(int)\n",
    "df_his.holiday.unique()"
   ]
  },
  {
   "cell_type": "code",
   "execution_count": 55,
   "metadata": {},
   "outputs": [
    {
     "data": {
      "text/plain": [
       "array(['08', '14', '18', '17', '13', '15', '21', '20', '19', '01', '23',\n",
       "       '00', '10', '02', '16', '07', '12', '22', '03', '09', '11', '04',\n",
       "       '05', '06', '24'], dtype=object)"
      ]
     },
     "execution_count": 55,
     "metadata": {},
     "output_type": "execute_result"
    }
   ],
   "source": [
    "# checking hour in from_time column\n",
    "df_his['from_time'].str[:2].unique()"
   ]
  },
  {
   "cell_type": "code",
   "execution_count": 56,
   "metadata": {},
   "outputs": [
    {
     "data": {
      "text/html": [
       "<div>\n",
       "<style>\n",
       "    .dataframe thead tr:only-child th {\n",
       "        text-align: right;\n",
       "    }\n",
       "\n",
       "    .dataframe thead th {\n",
       "        text-align: left;\n",
       "    }\n",
       "\n",
       "    .dataframe tbody tr th {\n",
       "        vertical-align: top;\n",
       "    }\n",
       "</style>\n",
       "<table border=\"1\" class=\"dataframe\">\n",
       "  <thead>\n",
       "    <tr style=\"text-align: right;\">\n",
       "      <th></th>\n",
       "      <th>from_date</th>\n",
       "      <th>from_time</th>\n",
       "      <th>to_date</th>\n",
       "      <th>to_time</th>\n",
       "      <th>offense</th>\n",
       "      <th>offense_description</th>\n",
       "      <th>law_category</th>\n",
       "      <th>occurence</th>\n",
       "      <th>premise</th>\n",
       "      <th>borough</th>\n",
       "      <th>latitude</th>\n",
       "      <th>longitude</th>\n",
       "      <th>year</th>\n",
       "      <th>Month</th>\n",
       "      <th>weekday</th>\n",
       "      <th>holiday</th>\n",
       "    </tr>\n",
       "  </thead>\n",
       "  <tbody>\n",
       "    <tr>\n",
       "      <th>197488</th>\n",
       "      <td>2008-11-12</td>\n",
       "      <td>09:40:00</td>\n",
       "      <td>2008-11-12</td>\n",
       "      <td>09:50:00</td>\n",
       "      <td>HARRASSMENT 2</td>\n",
       "      <td>HARASSMENT,SUBD 1,CIVILIAN</td>\n",
       "      <td>VIOLATION</td>\n",
       "      <td>FRONT OF</td>\n",
       "      <td>STREET</td>\n",
       "      <td>BROOKLYN</td>\n",
       "      <td>40.606587</td>\n",
       "      <td>-73.983273</td>\n",
       "      <td>2008</td>\n",
       "      <td>Nov</td>\n",
       "      <td>Wednesday</td>\n",
       "      <td>0</td>\n",
       "    </tr>\n",
       "  </tbody>\n",
       "</table>\n",
       "</div>"
      ],
      "text/plain": [
       "        from_date from_time    to_date   to_time        offense  \\\n",
       "197488 2008-11-12  09:40:00 2008-11-12  09:50:00  HARRASSMENT 2   \n",
       "\n",
       "               offense_description law_category occurence premise   borough  \\\n",
       "197488  HARASSMENT,SUBD 1,CIVILIAN    VIOLATION  FRONT OF  STREET  BROOKLYN   \n",
       "\n",
       "         latitude  longitude  year Month    weekday  holiday  \n",
       "197488  40.606587 -73.983273  2008   Nov  Wednesday        0  "
      ]
     },
     "execution_count": 56,
     "metadata": {},
     "output_type": "execute_result"
    }
   ],
   "source": [
    "# convert '24' hour to '00' hour in 'from_time' column\n",
    "from datetime import datetime\n",
    "\n",
    "def fix_time(v):\n",
    "    h,m,s = str(v).split(\":\")\n",
    "    if h==\"24\":\n",
    "        h = \"00\"\n",
    "    return \":\".join([h,m,s])\n",
    "\n",
    "df_his['from_time'] = df_his['from_time'].map(fix_time)\n",
    "df_his.sample(1)"
   ]
  },
  {
   "cell_type": "code",
   "execution_count": 57,
   "metadata": {},
   "outputs": [
    {
     "data": {
      "text/plain": [
       "array(['08', '14', '18', '17', '13', '15', '21', '20', '19', '01', '23',\n",
       "       '00', '10', '02', '16', '07', '12', '22', '03', '09', '11', '04',\n",
       "       '05', '06'], dtype=object)"
      ]
     },
     "execution_count": 57,
     "metadata": {},
     "output_type": "execute_result"
    }
   ],
   "source": [
    "df_his['from_time'].str[:2].unique()"
   ]
  },
  {
   "cell_type": "code",
   "execution_count": 58,
   "metadata": {
    "collapsed": true
   },
   "outputs": [],
   "source": [
    "# hour\n",
    "\n",
    "df_his['hour'] = pd.DatetimeIndex(df_his['from_time']).hour"
   ]
  },
  {
   "cell_type": "code",
   "execution_count": 59,
   "metadata": {
    "collapsed": true
   },
   "outputs": [],
   "source": [
    "# create time column\n",
    "from datetime import datetime\n",
    "\n",
    "df_his['time_str'] = df_his.from_date.astype(str) + \" \" + df_his.from_time.astype(str)\n",
    "df_his['time'] = df_his.time_str.map(lambda v:datetime.strptime(v, '%Y-%m-%d %H:%M:%S'))"
   ]
  },
  {
   "cell_type": "code",
   "execution_count": 60,
   "metadata": {
    "collapsed": true
   },
   "outputs": [],
   "source": [
    "# no. of the month\n",
    "df_his['no_of_month'] = df_his.time.dt.month"
   ]
  },
  {
   "cell_type": "code",
   "execution_count": 61,
   "metadata": {
    "collapsed": true
   },
   "outputs": [],
   "source": [
    "# Day of the month\n",
    "df_his['Day_of_month'] = df_his['from_date'].dt.day"
   ]
  },
  {
   "cell_type": "code",
   "execution_count": 62,
   "metadata": {
    "collapsed": true
   },
   "outputs": [],
   "source": [
    "# column no. of the weekday\n",
    "\n",
    "df_his=pd.merge(df_his, d_df, how='left', on='weekday')"
   ]
  },
  {
   "cell_type": "code",
   "execution_count": 63,
   "metadata": {},
   "outputs": [
    {
     "data": {
      "text/html": [
       "<div>\n",
       "<style>\n",
       "    .dataframe thead tr:only-child th {\n",
       "        text-align: right;\n",
       "    }\n",
       "\n",
       "    .dataframe thead th {\n",
       "        text-align: left;\n",
       "    }\n",
       "\n",
       "    .dataframe tbody tr th {\n",
       "        vertical-align: top;\n",
       "    }\n",
       "</style>\n",
       "<table border=\"1\" class=\"dataframe\">\n",
       "  <thead>\n",
       "    <tr style=\"text-align: right;\">\n",
       "      <th></th>\n",
       "      <th>from_date</th>\n",
       "      <th>from_time</th>\n",
       "      <th>to_date</th>\n",
       "      <th>to_time</th>\n",
       "      <th>offense</th>\n",
       "      <th>offense_description</th>\n",
       "      <th>law_category</th>\n",
       "      <th>occurence</th>\n",
       "      <th>premise</th>\n",
       "      <th>borough</th>\n",
       "      <th>latitude</th>\n",
       "      <th>longitude</th>\n",
       "      <th>year</th>\n",
       "      <th>Month</th>\n",
       "      <th>weekday</th>\n",
       "      <th>holiday</th>\n",
       "      <th>hour</th>\n",
       "      <th>time_str</th>\n",
       "      <th>time</th>\n",
       "      <th>no_of_month</th>\n",
       "      <th>Day_of_month</th>\n",
       "      <th>no_of_weekday</th>\n",
       "    </tr>\n",
       "  </thead>\n",
       "  <tbody>\n",
       "    <tr>\n",
       "      <th>397378</th>\n",
       "      <td>2013-06-06</td>\n",
       "      <td>01:00:00</td>\n",
       "      <td>NaT</td>\n",
       "      <td>NaN</td>\n",
       "      <td>FELONY ASSAULT</td>\n",
       "      <td>ASSAULT 2,1,UNCLASSIFIED</td>\n",
       "      <td>FELONY</td>\n",
       "      <td>INSIDE</td>\n",
       "      <td>RESIDENCE - APT. HOUSE</td>\n",
       "      <td>BRONX</td>\n",
       "      <td>40.838551</td>\n",
       "      <td>-73.909399</td>\n",
       "      <td>2013</td>\n",
       "      <td>Jun</td>\n",
       "      <td>Thursday</td>\n",
       "      <td>0</td>\n",
       "      <td>1</td>\n",
       "      <td>2013-06-06 01:00:00</td>\n",
       "      <td>2013-06-06 01:00:00</td>\n",
       "      <td>6</td>\n",
       "      <td>6</td>\n",
       "      <td>3</td>\n",
       "    </tr>\n",
       "  </tbody>\n",
       "</table>\n",
       "</div>"
      ],
      "text/plain": [
       "        from_date from_time to_date to_time         offense  \\\n",
       "397378 2013-06-06  01:00:00     NaT     NaN  FELONY ASSAULT   \n",
       "\n",
       "             offense_description law_category occurence  \\\n",
       "397378  ASSAULT 2,1,UNCLASSIFIED       FELONY    INSIDE   \n",
       "\n",
       "                       premise borough   latitude  longitude  year Month  \\\n",
       "397378  RESIDENCE - APT. HOUSE   BRONX  40.838551 -73.909399  2013   Jun   \n",
       "\n",
       "         weekday  holiday  hour             time_str                time  \\\n",
       "397378  Thursday        0     1  2013-06-06 01:00:00 2013-06-06 01:00:00   \n",
       "\n",
       "        no_of_month  Day_of_month  no_of_weekday  \n",
       "397378            6             6              3  "
      ]
     },
     "execution_count": 63,
     "metadata": {},
     "output_type": "execute_result"
    }
   ],
   "source": [
    "df_his.sample(1)"
   ]
  },
  {
   "cell_type": "code",
   "execution_count": 64,
   "metadata": {},
   "outputs": [
    {
     "name": "stdout",
     "output_type": "stream",
     "text": [
      "min of from date 2006-01-01 00:00:00\n",
      "max of from date 2016-12-31 00:00:00\n",
      "min of to date 2006-01-01 00:00:00\n",
      "max of to date 2017-01-04 00:00:00\n"
     ]
    }
   ],
   "source": [
    "# checking date\n",
    "\n",
    "print('min of from date', df_his.from_date.min())\n",
    "print('max of from date', df_his.from_date.max())\n",
    "print('min of to date', df_his.to_date.min())\n",
    "print('max of to date', df_his.to_date.max())"
   ]
  },
  {
   "cell_type": "code",
   "execution_count": 65,
   "metadata": {},
   "outputs": [
    {
     "data": {
      "text/plain": [
       "array([2014, 2011, 2010, 2007, 2016, 2015, 2012, 2013, 2006, 2008, 2009])"
      ]
     },
     "execution_count": 65,
     "metadata": {},
     "output_type": "execute_result"
    }
   ],
   "source": [
    "df_his.year.unique()"
   ]
  },
  {
   "cell_type": "code",
   "execution_count": 66,
   "metadata": {},
   "outputs": [
    {
     "name": "stdout",
     "output_type": "stream",
     "text": [
      "min:  -366 days +00:00:00\n",
      "max:  3653 days 00:00:00\n"
     ]
    }
   ],
   "source": [
    "# checking mistyping\n",
    "\n",
    "diff_h=df_his['to_date'] - df_his['from_date']\n",
    "print('min: ',diff_h.min())\n",
    "print('max: ',diff_h.max())"
   ]
  },
  {
   "cell_type": "code",
   "execution_count": 67,
   "metadata": {},
   "outputs": [
    {
     "data": {
      "text/html": [
       "<div>\n",
       "<style>\n",
       "    .dataframe thead tr:only-child th {\n",
       "        text-align: right;\n",
       "    }\n",
       "\n",
       "    .dataframe thead th {\n",
       "        text-align: left;\n",
       "    }\n",
       "\n",
       "    .dataframe tbody tr th {\n",
       "        vertical-align: top;\n",
       "    }\n",
       "</style>\n",
       "<table border=\"1\" class=\"dataframe\">\n",
       "  <thead>\n",
       "    <tr style=\"text-align: right;\">\n",
       "      <th></th>\n",
       "      <th>diff_h</th>\n",
       "      <th>days</th>\n",
       "    </tr>\n",
       "  </thead>\n",
       "  <tbody>\n",
       "    <tr>\n",
       "      <th>141205</th>\n",
       "      <td>-366 days</td>\n",
       "      <td>-366</td>\n",
       "    </tr>\n",
       "    <tr>\n",
       "      <th>252659</th>\n",
       "      <td>-365 days</td>\n",
       "      <td>-365</td>\n",
       "    </tr>\n",
       "    <tr>\n",
       "      <th>335103</th>\n",
       "      <td>-153 days</td>\n",
       "      <td>-153</td>\n",
       "    </tr>\n",
       "    <tr>\n",
       "      <th>355423</th>\n",
       "      <td>-1 days</td>\n",
       "      <td>-1</td>\n",
       "    </tr>\n",
       "  </tbody>\n",
       "</table>\n",
       "</div>"
      ],
      "text/plain": [
       "          diff_h  days\n",
       "141205 -366 days  -366\n",
       "252659 -365 days  -365\n",
       "335103 -153 days  -153\n",
       "355423   -1 days    -1"
      ]
     },
     "execution_count": 67,
     "metadata": {},
     "output_type": "execute_result"
    }
   ],
   "source": [
    "# checking difference is negative (<0) \n",
    "\n",
    "def to_int(v):\n",
    "    try:\n",
    "        return int(str(v).split()[0])\n",
    "    except:\n",
    "        return 0\n",
    "\n",
    "df_diff_h = pd.DataFrame(diff_h, columns=['diff_h'])\n",
    "df_diff_h['days'] = df_diff_h['diff_h'].map(to_int)\n",
    "df_diff_h[df_diff_h.days < 0]"
   ]
  },
  {
   "cell_type": "code",
   "execution_count": 68,
   "metadata": {},
   "outputs": [
    {
     "data": {
      "text/html": [
       "<div>\n",
       "<style>\n",
       "    .dataframe thead tr:only-child th {\n",
       "        text-align: right;\n",
       "    }\n",
       "\n",
       "    .dataframe thead th {\n",
       "        text-align: left;\n",
       "    }\n",
       "\n",
       "    .dataframe tbody tr th {\n",
       "        vertical-align: top;\n",
       "    }\n",
       "</style>\n",
       "<table border=\"1\" class=\"dataframe\">\n",
       "  <thead>\n",
       "    <tr style=\"text-align: right;\">\n",
       "      <th></th>\n",
       "      <th>from_date</th>\n",
       "      <th>from_time</th>\n",
       "      <th>to_date</th>\n",
       "      <th>to_time</th>\n",
       "      <th>offense</th>\n",
       "      <th>offense_description</th>\n",
       "      <th>law_category</th>\n",
       "      <th>occurence</th>\n",
       "      <th>premise</th>\n",
       "      <th>borough</th>\n",
       "      <th>latitude</th>\n",
       "      <th>longitude</th>\n",
       "      <th>year</th>\n",
       "      <th>Month</th>\n",
       "      <th>weekday</th>\n",
       "      <th>holiday</th>\n",
       "      <th>hour</th>\n",
       "      <th>time_str</th>\n",
       "      <th>time</th>\n",
       "      <th>no_of_month</th>\n",
       "      <th>Day_of_month</th>\n",
       "      <th>no_of_weekday</th>\n",
       "    </tr>\n",
       "  </thead>\n",
       "  <tbody>\n",
       "    <tr>\n",
       "      <th>141205</th>\n",
       "      <td>2012-04-07</td>\n",
       "      <td>12:15:00</td>\n",
       "      <td>2011-04-07</td>\n",
       "      <td>NaN</td>\n",
       "      <td>ASSAULT 3 &amp; RELATED OFFENSES</td>\n",
       "      <td>ASSAULT 3</td>\n",
       "      <td>MISDEMEANOR</td>\n",
       "      <td>INSIDE</td>\n",
       "      <td>RESIDENCE - APT. HOUSE</td>\n",
       "      <td>QUEENS</td>\n",
       "      <td>40.581846</td>\n",
       "      <td>-73.830892</td>\n",
       "      <td>2012</td>\n",
       "      <td>Apr</td>\n",
       "      <td>Saturday</td>\n",
       "      <td>0</td>\n",
       "      <td>12</td>\n",
       "      <td>2012-04-07 12:15:00</td>\n",
       "      <td>2012-04-07 12:15:00</td>\n",
       "      <td>4</td>\n",
       "      <td>7</td>\n",
       "      <td>5</td>\n",
       "    </tr>\n",
       "    <tr>\n",
       "      <th>252659</th>\n",
       "      <td>2014-05-03</td>\n",
       "      <td>22:23:00</td>\n",
       "      <td>2013-05-03</td>\n",
       "      <td>NaN</td>\n",
       "      <td>OFF. AGNST PUB ORD SENSBLTY &amp;</td>\n",
       "      <td>AGGRAVATED HARASSMENT 2</td>\n",
       "      <td>MISDEMEANOR</td>\n",
       "      <td>INSIDE</td>\n",
       "      <td>RESIDENCE-HOUSE</td>\n",
       "      <td>QUEENS</td>\n",
       "      <td>40.694933</td>\n",
       "      <td>-73.746375</td>\n",
       "      <td>2014</td>\n",
       "      <td>May</td>\n",
       "      <td>Saturday</td>\n",
       "      <td>0</td>\n",
       "      <td>22</td>\n",
       "      <td>2014-05-03 22:23:00</td>\n",
       "      <td>2014-05-03 22:23:00</td>\n",
       "      <td>5</td>\n",
       "      <td>3</td>\n",
       "      <td>5</td>\n",
       "    </tr>\n",
       "    <tr>\n",
       "      <th>335103</th>\n",
       "      <td>2016-09-12</td>\n",
       "      <td>14:00:00</td>\n",
       "      <td>2016-04-12</td>\n",
       "      <td>NaN</td>\n",
       "      <td>HARRASSMENT 2</td>\n",
       "      <td>HARASSMENT,SUBD 1,CIVILIAN</td>\n",
       "      <td>VIOLATION</td>\n",
       "      <td>INSIDE</td>\n",
       "      <td>RESIDENCE-HOUSE</td>\n",
       "      <td>BRONX</td>\n",
       "      <td>40.858609</td>\n",
       "      <td>-73.908671</td>\n",
       "      <td>2016</td>\n",
       "      <td>Sep</td>\n",
       "      <td>Monday</td>\n",
       "      <td>0</td>\n",
       "      <td>14</td>\n",
       "      <td>2016-09-12 14:00:00</td>\n",
       "      <td>2016-09-12 14:00:00</td>\n",
       "      <td>9</td>\n",
       "      <td>12</td>\n",
       "      <td>0</td>\n",
       "    </tr>\n",
       "    <tr>\n",
       "      <th>355423</th>\n",
       "      <td>2010-11-11</td>\n",
       "      <td>07:00:00</td>\n",
       "      <td>2010-11-10</td>\n",
       "      <td>18:00:00</td>\n",
       "      <td>PETIT LARCENY</td>\n",
       "      <td>LARCENY,PETIT OF LICENSE PLATE</td>\n",
       "      <td>MISDEMEANOR</td>\n",
       "      <td>FRONT OF</td>\n",
       "      <td>STREET</td>\n",
       "      <td>BRONX</td>\n",
       "      <td>40.818753</td>\n",
       "      <td>-73.814761</td>\n",
       "      <td>2010</td>\n",
       "      <td>Nov</td>\n",
       "      <td>Thursday</td>\n",
       "      <td>1</td>\n",
       "      <td>7</td>\n",
       "      <td>2010-11-11 07:00:00</td>\n",
       "      <td>2010-11-11 07:00:00</td>\n",
       "      <td>11</td>\n",
       "      <td>11</td>\n",
       "      <td>3</td>\n",
       "    </tr>\n",
       "  </tbody>\n",
       "</table>\n",
       "</div>"
      ],
      "text/plain": [
       "        from_date from_time    to_date   to_time  \\\n",
       "141205 2012-04-07  12:15:00 2011-04-07       NaN   \n",
       "252659 2014-05-03  22:23:00 2013-05-03       NaN   \n",
       "335103 2016-09-12  14:00:00 2016-04-12       NaN   \n",
       "355423 2010-11-11  07:00:00 2010-11-10  18:00:00   \n",
       "\n",
       "                              offense             offense_description  \\\n",
       "141205   ASSAULT 3 & RELATED OFFENSES                       ASSAULT 3   \n",
       "252659  OFF. AGNST PUB ORD SENSBLTY &         AGGRAVATED HARASSMENT 2   \n",
       "335103                  HARRASSMENT 2      HARASSMENT,SUBD 1,CIVILIAN   \n",
       "355423                  PETIT LARCENY  LARCENY,PETIT OF LICENSE PLATE   \n",
       "\n",
       "       law_category occurence                 premise borough   latitude  \\\n",
       "141205  MISDEMEANOR    INSIDE  RESIDENCE - APT. HOUSE  QUEENS  40.581846   \n",
       "252659  MISDEMEANOR    INSIDE         RESIDENCE-HOUSE  QUEENS  40.694933   \n",
       "335103    VIOLATION    INSIDE         RESIDENCE-HOUSE   BRONX  40.858609   \n",
       "355423  MISDEMEANOR  FRONT OF                  STREET   BRONX  40.818753   \n",
       "\n",
       "        longitude  year Month   weekday  holiday  hour             time_str  \\\n",
       "141205 -73.830892  2012   Apr  Saturday        0    12  2012-04-07 12:15:00   \n",
       "252659 -73.746375  2014   May  Saturday        0    22  2014-05-03 22:23:00   \n",
       "335103 -73.908671  2016   Sep    Monday        0    14  2016-09-12 14:00:00   \n",
       "355423 -73.814761  2010   Nov  Thursday        1     7  2010-11-11 07:00:00   \n",
       "\n",
       "                      time  no_of_month  Day_of_month  no_of_weekday  \n",
       "141205 2012-04-07 12:15:00            4             7              5  \n",
       "252659 2014-05-03 22:23:00            5             3              5  \n",
       "335103 2016-09-12 14:00:00            9            12              0  \n",
       "355423 2010-11-11 07:00:00           11            11              3  "
      ]
     },
     "metadata": {},
     "output_type": "display_data"
    }
   ],
   "source": [
    "display(df_his.loc[(diff_h == '-366 days +00:00:00') | (diff_h == '-365 days +00:00:00')|(diff_h == '-153 days +00:00:00')| (diff_h == '-1 days +00:00:00')])"
   ]
  },
  {
   "cell_type": "code",
   "execution_count": 69,
   "metadata": {
    "collapsed": true
   },
   "outputs": [],
   "source": [
    "# drop line where the difference = -366 days, - 365 days, -153 days, -1 day\n",
    "\n",
    "df_his = df_his.drop(df_his[(diff_h == '-366 days +00:00:00') | (diff_h == '-365 days +00:00:00')|(diff_h == '-153 days +00:00:00')| (diff_h == '-1 days +00:00:00')].index)"
   ]
  },
  {
   "cell_type": "code",
   "execution_count": 70,
   "metadata": {
    "scrolled": true
   },
   "outputs": [
    {
     "name": "stdout",
     "output_type": "stream",
     "text": [
      "1752\n"
     ]
    },
    {
     "data": {
      "text/html": [
       "<div>\n",
       "<style>\n",
       "    .dataframe thead tr:only-child th {\n",
       "        text-align: right;\n",
       "    }\n",
       "\n",
       "    .dataframe thead th {\n",
       "        text-align: left;\n",
       "    }\n",
       "\n",
       "    .dataframe tbody tr th {\n",
       "        vertical-align: top;\n",
       "    }\n",
       "</style>\n",
       "<table border=\"1\" class=\"dataframe\">\n",
       "  <thead>\n",
       "    <tr style=\"text-align: right;\">\n",
       "      <th></th>\n",
       "      <th>from_date</th>\n",
       "      <th>from_time</th>\n",
       "      <th>to_date</th>\n",
       "      <th>to_time</th>\n",
       "      <th>offense</th>\n",
       "      <th>offense_description</th>\n",
       "      <th>law_category</th>\n",
       "      <th>occurence</th>\n",
       "      <th>premise</th>\n",
       "      <th>borough</th>\n",
       "      <th>latitude</th>\n",
       "      <th>longitude</th>\n",
       "      <th>year</th>\n",
       "      <th>Month</th>\n",
       "      <th>weekday</th>\n",
       "      <th>holiday</th>\n",
       "      <th>hour</th>\n",
       "      <th>time_str</th>\n",
       "      <th>time</th>\n",
       "      <th>no_of_month</th>\n",
       "      <th>Day_of_month</th>\n",
       "      <th>no_of_weekday</th>\n",
       "    </tr>\n",
       "  </thead>\n",
       "  <tbody>\n",
       "    <tr>\n",
       "      <th>61328</th>\n",
       "      <td>2006-11-21</td>\n",
       "      <td>18:45:00</td>\n",
       "      <td>NaT</td>\n",
       "      <td>NaN</td>\n",
       "      <td>NaN</td>\n",
       "      <td>CONTEMPT,CRIMINAL</td>\n",
       "      <td>MISDEMEANOR</td>\n",
       "      <td>INSIDE</td>\n",
       "      <td>RESIDENCE - PUBLIC HOUSING</td>\n",
       "      <td>MANHATTAN</td>\n",
       "      <td>40.798483</td>\n",
       "      <td>-73.949147</td>\n",
       "      <td>2006</td>\n",
       "      <td>Nov</td>\n",
       "      <td>Tuesday</td>\n",
       "      <td>0</td>\n",
       "      <td>18</td>\n",
       "      <td>2006-11-21 18:45:00</td>\n",
       "      <td>2006-11-21 18:45:00</td>\n",
       "      <td>11</td>\n",
       "      <td>21</td>\n",
       "      <td>1</td>\n",
       "    </tr>\n",
       "    <tr>\n",
       "      <th>65869</th>\n",
       "      <td>2015-10-23</td>\n",
       "      <td>16:40:00</td>\n",
       "      <td>2015-10-23</td>\n",
       "      <td>16:47:00</td>\n",
       "      <td>NaN</td>\n",
       "      <td>SALE OF UNAUTHORIZED RECORDING</td>\n",
       "      <td>MISDEMEANOR</td>\n",
       "      <td>NaN</td>\n",
       "      <td>STREET</td>\n",
       "      <td>BRONX</td>\n",
       "      <td>40.816089</td>\n",
       "      <td>-73.917689</td>\n",
       "      <td>2015</td>\n",
       "      <td>Oct</td>\n",
       "      <td>Friday</td>\n",
       "      <td>0</td>\n",
       "      <td>16</td>\n",
       "      <td>2015-10-23 16:40:00</td>\n",
       "      <td>2015-10-23 16:40:00</td>\n",
       "      <td>10</td>\n",
       "      <td>23</td>\n",
       "      <td>4</td>\n",
       "    </tr>\n",
       "    <tr>\n",
       "      <th>96426</th>\n",
       "      <td>2011-07-28</td>\n",
       "      <td>12:05:00</td>\n",
       "      <td>2011-07-28</td>\n",
       "      <td>12:15:00</td>\n",
       "      <td>NaN</td>\n",
       "      <td>FALSE REPORT UNCLASSIFIED</td>\n",
       "      <td>MISDEMEANOR</td>\n",
       "      <td>INSIDE</td>\n",
       "      <td>PUBLIC BUILDING</td>\n",
       "      <td>QUEENS</td>\n",
       "      <td>40.680049</td>\n",
       "      <td>-73.775909</td>\n",
       "      <td>2011</td>\n",
       "      <td>Jul</td>\n",
       "      <td>Thursday</td>\n",
       "      <td>0</td>\n",
       "      <td>12</td>\n",
       "      <td>2011-07-28 12:05:00</td>\n",
       "      <td>2011-07-28 12:05:00</td>\n",
       "      <td>7</td>\n",
       "      <td>28</td>\n",
       "      <td>3</td>\n",
       "    </tr>\n",
       "    <tr>\n",
       "      <th>430489</th>\n",
       "      <td>2009-01-14</td>\n",
       "      <td>09:00:00</td>\n",
       "      <td>NaT</td>\n",
       "      <td>NaN</td>\n",
       "      <td>NaN</td>\n",
       "      <td>THEFT OF SERVICES, UNCLASSIFIE</td>\n",
       "      <td>MISDEMEANOR</td>\n",
       "      <td>INSIDE</td>\n",
       "      <td>RESIDENCE - APT. HOUSE</td>\n",
       "      <td>BRONX</td>\n",
       "      <td>40.830121</td>\n",
       "      <td>-73.919471</td>\n",
       "      <td>2009</td>\n",
       "      <td>Jan</td>\n",
       "      <td>Wednesday</td>\n",
       "      <td>0</td>\n",
       "      <td>9</td>\n",
       "      <td>2009-01-14 09:00:00</td>\n",
       "      <td>2009-01-14 09:00:00</td>\n",
       "      <td>1</td>\n",
       "      <td>14</td>\n",
       "      <td>2</td>\n",
       "    </tr>\n",
       "  </tbody>\n",
       "</table>\n",
       "</div>"
      ],
      "text/plain": [
       "        from_date from_time    to_date   to_time offense  \\\n",
       "61328  2006-11-21  18:45:00        NaT       NaN     NaN   \n",
       "65869  2015-10-23  16:40:00 2015-10-23  16:47:00     NaN   \n",
       "96426  2011-07-28  12:05:00 2011-07-28  12:15:00     NaN   \n",
       "430489 2009-01-14  09:00:00        NaT       NaN     NaN   \n",
       "\n",
       "                   offense_description law_category occurence  \\\n",
       "61328                CONTEMPT,CRIMINAL  MISDEMEANOR    INSIDE   \n",
       "65869   SALE OF UNAUTHORIZED RECORDING  MISDEMEANOR       NaN   \n",
       "96426        FALSE REPORT UNCLASSIFIED  MISDEMEANOR    INSIDE   \n",
       "430489  THEFT OF SERVICES, UNCLASSIFIE  MISDEMEANOR    INSIDE   \n",
       "\n",
       "                           premise    borough   latitude  longitude  year  \\\n",
       "61328   RESIDENCE - PUBLIC HOUSING  MANHATTAN  40.798483 -73.949147  2006   \n",
       "65869                       STREET      BRONX  40.816089 -73.917689  2015   \n",
       "96426              PUBLIC BUILDING     QUEENS  40.680049 -73.775909  2011   \n",
       "430489      RESIDENCE - APT. HOUSE      BRONX  40.830121 -73.919471  2009   \n",
       "\n",
       "       Month    weekday  holiday  hour             time_str  \\\n",
       "61328    Nov    Tuesday        0    18  2006-11-21 18:45:00   \n",
       "65869    Oct     Friday        0    16  2015-10-23 16:40:00   \n",
       "96426    Jul   Thursday        0    12  2011-07-28 12:05:00   \n",
       "430489   Jan  Wednesday        0     9  2009-01-14 09:00:00   \n",
       "\n",
       "                      time  no_of_month  Day_of_month  no_of_weekday  \n",
       "61328  2006-11-21 18:45:00           11            21              1  \n",
       "65869  2015-10-23 16:40:00           10            23              4  \n",
       "96426  2011-07-28 12:05:00            7            28              3  \n",
       "430489 2009-01-14 09:00:00            1            14              2  "
      ]
     },
     "metadata": {},
     "output_type": "display_data"
    }
   ],
   "source": [
    "# Identifying missing values in offense coloumn\n",
    "\n",
    "missing_df = df_his[df_his['offense'].isnull()]\n",
    "print(df_his['offense'].isnull().sum())\n",
    "display(missing_df.sample(4))"
   ]
  },
  {
   "cell_type": "code",
   "execution_count": 71,
   "metadata": {},
   "outputs": [
    {
     "name": "stdout",
     "output_type": "stream",
     "text": [
      "25\n",
      "['RIOT 2/INCITING' 'VIOLATION OF ORDER OF PROTECTI'\n",
      " 'SALE OF UNAUTHORIZED RECORDING' 'FALSE REPORT UNCLASSIFIED'\n",
      " 'CONTEMPT,CRIMINAL' 'LEWDNESS,PUBLIC' 'THEFT OF SERVICES, UNCLASSIFIE'\n",
      " 'NUISANCE,CRIMINAL,UNCLASSIFIED' 'FALSE REPORT BOMB' 'TAX LAW'\n",
      " 'PUBLIC ADMINISTATION,UNCLASS M' 'DISORDERLY CONDUCT'\n",
      " 'AGGRAVATED HARASSMENT 2' 'OBSCENITY 1' 'PUBLIC ADMINISTRATION,UNCLASSI'\n",
      " 'PRIVACY,OFFENSES AGAINST,UNCLA' 'CONTROLLED SUBSTANCE, POSSESSI'\n",
      " 'NY STATE LAWS,UNCLASSIFIED FEL' 'LARCENY,GRAND FROM PERSON,UNCL'\n",
      " 'MATERIAL              OFFENSIV' 'MENACING,UNCLASSIFIED'\n",
      " 'FRAUD,UNCLASSIFIED-MISDEMEANOR' 'CRIMINAL MISCHIEF,UNCLASSIFIED 4'\n",
      " 'ASSAULT 3' 'CHILD, ENDANGERING WELFARE']\n"
     ]
    }
   ],
   "source": [
    "print(len(missing_df.offense_description.unique()))\n",
    "print(missing_df.offense_description.unique())"
   ]
  },
  {
   "cell_type": "code",
   "execution_count": 72,
   "metadata": {},
   "outputs": [
    {
     "data": {
      "text/plain": [
       "0"
      ]
     },
     "execution_count": 72,
     "metadata": {},
     "output_type": "execute_result"
    }
   ],
   "source": [
    "# drop missing values offense column\n",
    "\n",
    "df_his = df_his[(pd.notnull(df_his['offense']))]\n",
    "df_his['offense'].isnull().sum()"
   ]
  },
  {
   "cell_type": "code",
   "execution_count": 73,
   "metadata": {},
   "outputs": [
    {
     "name": "stdout",
     "output_type": "stream",
     "text": [
      "no. of offense:  66\n",
      "no. of law category:  3\n",
      "no. of borough:  6\n",
      "no. of year:  11\n"
     ]
    }
   ],
   "source": [
    "# checking no. of offense type, law category, borough, year\n",
    "\n",
    "print('no. of offense: ',len(pd.unique(df_his.offense)))\n",
    "print('no. of law category: ',len(pd.unique(df_his.law_category)))\n",
    "print('no. of borough: ',len(pd.unique(df_his.borough)))\n",
    "print('no. of year: ',len(pd.unique(df_his.year)))"
   ]
  },
  {
   "cell_type": "markdown",
   "metadata": {
    "collapsed": true
   },
   "source": [
    "## Common Criminal Offenses"
   ]
  },
  {
   "cell_type": "code",
   "execution_count": 74,
   "metadata": {
    "collapsed": true
   },
   "outputs": [],
   "source": [
    "# Create new dataset from df_2017 & df_his\n",
    "\n",
    "df_all = pd.concat([df_2017, df_his])"
   ]
  },
  {
   "cell_type": "code",
   "execution_count": 75,
   "metadata": {
    "collapsed": true
   },
   "outputs": [],
   "source": [
    "# Top offenses\n",
    "\n",
    "df_offenses = pd.crosstab(index=df_all[\"offense\"], columns=\"count\")     \n",
    "\n",
    "df_offenses = df_offenses.sort_values(by='count',ascending=False)\n",
    "top_offenses = df_offenses.head(30).index.values"
   ]
  },
  {
   "cell_type": "code",
   "execution_count": 76,
   "metadata": {},
   "outputs": [
    {
     "data": {
      "text/plain": [
       "31"
      ]
     },
     "execution_count": 76,
     "metadata": {},
     "output_type": "execute_result"
    }
   ],
   "source": [
    "# new column for offense category\n",
    "\n",
    "df_all['offense_cutoff'] = df_all.offense.map(lambda v: v if v in top_offenses else \"OTHER\")\n",
    "len(df_all.offense_cutoff.unique())"
   ]
  },
  {
   "cell_type": "markdown",
   "metadata": {},
   "source": [
    "## Save cleaned data into a new csv file"
   ]
  },
  {
   "cell_type": "code",
   "execution_count": 77,
   "metadata": {
    "collapsed": true
   },
   "outputs": [],
   "source": [
    "df_all.to_csv('cleaned.csv', index=False)"
   ]
  }
 ],
 "metadata": {
  "kernelspec": {
   "display_name": "Python 3",
   "language": "python",
   "name": "python3"
  },
  "language_info": {
   "codemirror_mode": {
    "name": "ipython",
    "version": 3
   },
   "file_extension": ".py",
   "mimetype": "text/x-python",
   "name": "python",
   "nbconvert_exporter": "python",
   "pygments_lexer": "ipython3",
   "version": "3.6.1"
  }
 },
 "nbformat": 4,
 "nbformat_minor": 2
}
